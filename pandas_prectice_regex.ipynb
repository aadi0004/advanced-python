{
  "cells": [
    {
      "cell_type": "code",
      "execution_count": null,
      "id": "8a7f26de",
      "metadata": {
        "id": "8a7f26de"
      },
      "outputs": [],
      "source": [
        "import numpy as np\n",
        "import pandas as pd"
      ]
    },
    {
      "cell_type": "code",
      "execution_count": null,
      "id": "b3d30af3",
      "metadata": {
        "id": "b3d30af3"
      },
      "outputs": [],
      "source": [
        "df = pd.read_csv(\"C:\\\\Users\\\\saurabh\\\\Desktop\\\\Newdat\\\\placement.csv\")"
      ]
    },
    {
      "cell_type": "code",
      "execution_count": null,
      "id": "c305498c",
      "metadata": {
        "id": "c305498c",
        "outputId": "7dbfed02-b719-49f3-d391-2a535d9eeb8d"
      },
      "outputs": [
        {
          "data": {
            "text/html": [
              "<div>\n",
              "<style scoped>\n",
              "    .dataframe tbody tr th:only-of-type {\n",
              "        vertical-align: middle;\n",
              "    }\n",
              "\n",
              "    .dataframe tbody tr th {\n",
              "        vertical-align: top;\n",
              "    }\n",
              "\n",
              "    .dataframe thead th {\n",
              "        text-align: right;\n",
              "    }\n",
              "</style>\n",
              "<table border=\"1\" class=\"dataframe\">\n",
              "  <thead>\n",
              "    <tr style=\"text-align: right;\">\n",
              "      <th></th>\n",
              "      <th>cgpa</th>\n",
              "      <th>resume_score</th>\n",
              "      <th>placed</th>\n",
              "    </tr>\n",
              "  </thead>\n",
              "  <tbody>\n",
              "    <tr>\n",
              "      <th>0</th>\n",
              "      <td>8.14</td>\n",
              "      <td>6.52</td>\n",
              "      <td>1</td>\n",
              "    </tr>\n",
              "    <tr>\n",
              "      <th>1</th>\n",
              "      <td>6.17</td>\n",
              "      <td>5.17</td>\n",
              "      <td>0</td>\n",
              "    </tr>\n",
              "    <tr>\n",
              "      <th>2</th>\n",
              "      <td>8.27</td>\n",
              "      <td>8.86</td>\n",
              "      <td>1</td>\n",
              "    </tr>\n",
              "    <tr>\n",
              "      <th>3</th>\n",
              "      <td>6.88</td>\n",
              "      <td>7.27</td>\n",
              "      <td>1</td>\n",
              "    </tr>\n",
              "    <tr>\n",
              "      <th>4</th>\n",
              "      <td>7.52</td>\n",
              "      <td>7.30</td>\n",
              "      <td>1</td>\n",
              "    </tr>\n",
              "    <tr>\n",
              "      <th>...</th>\n",
              "      <td>...</td>\n",
              "      <td>...</td>\n",
              "      <td>...</td>\n",
              "    </tr>\n",
              "    <tr>\n",
              "      <th>95</th>\n",
              "      <td>6.33</td>\n",
              "      <td>6.38</td>\n",
              "      <td>0</td>\n",
              "    </tr>\n",
              "    <tr>\n",
              "      <th>96</th>\n",
              "      <td>8.23</td>\n",
              "      <td>7.76</td>\n",
              "      <td>1</td>\n",
              "    </tr>\n",
              "    <tr>\n",
              "      <th>97</th>\n",
              "      <td>6.65</td>\n",
              "      <td>7.78</td>\n",
              "      <td>0</td>\n",
              "    </tr>\n",
              "    <tr>\n",
              "      <th>98</th>\n",
              "      <td>8.14</td>\n",
              "      <td>5.63</td>\n",
              "      <td>1</td>\n",
              "    </tr>\n",
              "    <tr>\n",
              "      <th>99</th>\n",
              "      <td>6.09</td>\n",
              "      <td>6.61</td>\n",
              "      <td>0</td>\n",
              "    </tr>\n",
              "  </tbody>\n",
              "</table>\n",
              "<p>100 rows × 3 columns</p>\n",
              "</div>"
            ],
            "text/plain": [
              "    cgpa  resume_score  placed\n",
              "0   8.14          6.52       1\n",
              "1   6.17          5.17       0\n",
              "2   8.27          8.86       1\n",
              "3   6.88          7.27       1\n",
              "4   7.52          7.30       1\n",
              "..   ...           ...     ...\n",
              "95  6.33          6.38       0\n",
              "96  8.23          7.76       1\n",
              "97  6.65          7.78       0\n",
              "98  8.14          5.63       1\n",
              "99  6.09          6.61       0\n",
              "\n",
              "[100 rows x 3 columns]"
            ]
          },
          "execution_count": 3,
          "metadata": {},
          "output_type": "execute_result"
        }
      ],
      "source": [
        "df"
      ]
    },
    {
      "cell_type": "code",
      "execution_count": null,
      "id": "ea06ce4b",
      "metadata": {
        "id": "ea06ce4b",
        "outputId": "120ecff1-b8bd-43fe-e83d-86497d3a3896"
      },
      "outputs": [
        {
          "data": {
            "text/html": [
              "<div>\n",
              "<style scoped>\n",
              "    .dataframe tbody tr th:only-of-type {\n",
              "        vertical-align: middle;\n",
              "    }\n",
              "\n",
              "    .dataframe tbody tr th {\n",
              "        vertical-align: top;\n",
              "    }\n",
              "\n",
              "    .dataframe thead th {\n",
              "        text-align: right;\n",
              "    }\n",
              "</style>\n",
              "<table border=\"1\" class=\"dataframe\">\n",
              "  <thead>\n",
              "    <tr style=\"text-align: right;\">\n",
              "      <th></th>\n",
              "      <th>cgpa</th>\n",
              "      <th>resume_score</th>\n",
              "      <th>placed</th>\n",
              "    </tr>\n",
              "  </thead>\n",
              "  <tbody>\n",
              "    <tr>\n",
              "      <th>0</th>\n",
              "      <td>8.14</td>\n",
              "      <td>6.52</td>\n",
              "      <td>1</td>\n",
              "    </tr>\n",
              "    <tr>\n",
              "      <th>1</th>\n",
              "      <td>6.17</td>\n",
              "      <td>5.17</td>\n",
              "      <td>0</td>\n",
              "    </tr>\n",
              "    <tr>\n",
              "      <th>2</th>\n",
              "      <td>8.27</td>\n",
              "      <td>8.86</td>\n",
              "      <td>1</td>\n",
              "    </tr>\n",
              "    <tr>\n",
              "      <th>3</th>\n",
              "      <td>6.88</td>\n",
              "      <td>7.27</td>\n",
              "      <td>1</td>\n",
              "    </tr>\n",
              "    <tr>\n",
              "      <th>4</th>\n",
              "      <td>7.52</td>\n",
              "      <td>7.30</td>\n",
              "      <td>1</td>\n",
              "    </tr>\n",
              "  </tbody>\n",
              "</table>\n",
              "</div>"
            ],
            "text/plain": [
              "   cgpa  resume_score  placed\n",
              "0  8.14          6.52       1\n",
              "1  6.17          5.17       0\n",
              "2  8.27          8.86       1\n",
              "3  6.88          7.27       1\n",
              "4  7.52          7.30       1"
            ]
          },
          "execution_count": 4,
          "metadata": {},
          "output_type": "execute_result"
        }
      ],
      "source": [
        "df.head()   # top 5 data"
      ]
    },
    {
      "cell_type": "code",
      "execution_count": null,
      "id": "ba00059b",
      "metadata": {
        "id": "ba00059b",
        "outputId": "600978af-d1aa-49cf-896a-0acda21e89fa"
      },
      "outputs": [
        {
          "data": {
            "text/html": [
              "<div>\n",
              "<style scoped>\n",
              "    .dataframe tbody tr th:only-of-type {\n",
              "        vertical-align: middle;\n",
              "    }\n",
              "\n",
              "    .dataframe tbody tr th {\n",
              "        vertical-align: top;\n",
              "    }\n",
              "\n",
              "    .dataframe thead th {\n",
              "        text-align: right;\n",
              "    }\n",
              "</style>\n",
              "<table border=\"1\" class=\"dataframe\">\n",
              "  <thead>\n",
              "    <tr style=\"text-align: right;\">\n",
              "      <th></th>\n",
              "      <th>cgpa</th>\n",
              "      <th>resume_score</th>\n",
              "      <th>placed</th>\n",
              "    </tr>\n",
              "  </thead>\n",
              "  <tbody>\n",
              "    <tr>\n",
              "      <th>95</th>\n",
              "      <td>6.33</td>\n",
              "      <td>6.38</td>\n",
              "      <td>0</td>\n",
              "    </tr>\n",
              "    <tr>\n",
              "      <th>96</th>\n",
              "      <td>8.23</td>\n",
              "      <td>7.76</td>\n",
              "      <td>1</td>\n",
              "    </tr>\n",
              "    <tr>\n",
              "      <th>97</th>\n",
              "      <td>6.65</td>\n",
              "      <td>7.78</td>\n",
              "      <td>0</td>\n",
              "    </tr>\n",
              "    <tr>\n",
              "      <th>98</th>\n",
              "      <td>8.14</td>\n",
              "      <td>5.63</td>\n",
              "      <td>1</td>\n",
              "    </tr>\n",
              "    <tr>\n",
              "      <th>99</th>\n",
              "      <td>6.09</td>\n",
              "      <td>6.61</td>\n",
              "      <td>0</td>\n",
              "    </tr>\n",
              "  </tbody>\n",
              "</table>\n",
              "</div>"
            ],
            "text/plain": [
              "    cgpa  resume_score  placed\n",
              "95  6.33          6.38       0\n",
              "96  8.23          7.76       1\n",
              "97  6.65          7.78       0\n",
              "98  8.14          5.63       1\n",
              "99  6.09          6.61       0"
            ]
          },
          "execution_count": 5,
          "metadata": {},
          "output_type": "execute_result"
        }
      ],
      "source": [
        "df.tail() # bottom 5 data"
      ]
    },
    {
      "cell_type": "code",
      "execution_count": null,
      "id": "45fd0959",
      "metadata": {
        "id": "45fd0959",
        "outputId": "a4fd6587-4c61-4784-a6c0-2ad87e424988"
      },
      "outputs": [
        {
          "data": {
            "text/html": [
              "<div>\n",
              "<style scoped>\n",
              "    .dataframe tbody tr th:only-of-type {\n",
              "        vertical-align: middle;\n",
              "    }\n",
              "\n",
              "    .dataframe tbody tr th {\n",
              "        vertical-align: top;\n",
              "    }\n",
              "\n",
              "    .dataframe thead th {\n",
              "        text-align: right;\n",
              "    }\n",
              "</style>\n",
              "<table border=\"1\" class=\"dataframe\">\n",
              "  <thead>\n",
              "    <tr style=\"text-align: right;\">\n",
              "      <th></th>\n",
              "      <th>cgpa</th>\n",
              "      <th>resume_score</th>\n",
              "      <th>placed</th>\n",
              "    </tr>\n",
              "  </thead>\n",
              "  <tbody>\n",
              "    <tr>\n",
              "      <th>count</th>\n",
              "      <td>100.0000</td>\n",
              "      <td>100.000000</td>\n",
              "      <td>100.000000</td>\n",
              "    </tr>\n",
              "    <tr>\n",
              "      <th>mean</th>\n",
              "      <td>6.9422</td>\n",
              "      <td>6.930500</td>\n",
              "      <td>0.500000</td>\n",
              "    </tr>\n",
              "    <tr>\n",
              "      <th>std</th>\n",
              "      <td>1.1192</td>\n",
              "      <td>0.979608</td>\n",
              "      <td>0.502519</td>\n",
              "    </tr>\n",
              "    <tr>\n",
              "      <th>min</th>\n",
              "      <td>5.2700</td>\n",
              "      <td>4.950000</td>\n",
              "      <td>0.000000</td>\n",
              "    </tr>\n",
              "    <tr>\n",
              "      <th>25%</th>\n",
              "      <td>5.9800</td>\n",
              "      <td>6.190000</td>\n",
              "      <td>0.000000</td>\n",
              "    </tr>\n",
              "    <tr>\n",
              "      <th>50%</th>\n",
              "      <td>6.6200</td>\n",
              "      <td>7.055000</td>\n",
              "      <td>0.500000</td>\n",
              "    </tr>\n",
              "    <tr>\n",
              "      <th>75%</th>\n",
              "      <td>8.0450</td>\n",
              "      <td>7.640000</td>\n",
              "      <td>1.000000</td>\n",
              "    </tr>\n",
              "    <tr>\n",
              "      <th>max</th>\n",
              "      <td>9.4000</td>\n",
              "      <td>9.060000</td>\n",
              "      <td>1.000000</td>\n",
              "    </tr>\n",
              "  </tbody>\n",
              "</table>\n",
              "</div>"
            ],
            "text/plain": [
              "           cgpa  resume_score      placed\n",
              "count  100.0000    100.000000  100.000000\n",
              "mean     6.9422      6.930500    0.500000\n",
              "std      1.1192      0.979608    0.502519\n",
              "min      5.2700      4.950000    0.000000\n",
              "25%      5.9800      6.190000    0.000000\n",
              "50%      6.6200      7.055000    0.500000\n",
              "75%      8.0450      7.640000    1.000000\n",
              "max      9.4000      9.060000    1.000000"
            ]
          },
          "execution_count": 6,
          "metadata": {},
          "output_type": "execute_result"
        }
      ],
      "source": [
        "df.describe()  # statically view of data"
      ]
    },
    {
      "cell_type": "code",
      "execution_count": null,
      "id": "f9f3f632",
      "metadata": {
        "id": "f9f3f632",
        "outputId": "2d0cf8a6-f582-444c-a8c1-41445195ceca"
      },
      "outputs": [
        {
          "name": "stdout",
          "output_type": "stream",
          "text": [
            "<class 'pandas.core.frame.DataFrame'>\n",
            "RangeIndex: 100 entries, 0 to 99\n",
            "Data columns (total 3 columns):\n",
            " #   Column        Non-Null Count  Dtype  \n",
            "---  ------        --------------  -----  \n",
            " 0   cgpa          100 non-null    float64\n",
            " 1   resume_score  100 non-null    float64\n",
            " 2   placed        100 non-null    int64  \n",
            "dtypes: float64(2), int64(1)\n",
            "memory usage: 2.5 KB\n"
          ]
        }
      ],
      "source": [
        "df.info() # Data type information"
      ]
    },
    {
      "cell_type": "code",
      "execution_count": null,
      "id": "98cb2b53",
      "metadata": {
        "id": "98cb2b53",
        "outputId": "0a422414-bd84-4071-95eb-69cf17dbd882"
      },
      "outputs": [
        {
          "data": {
            "text/html": [
              "<div>\n",
              "<style scoped>\n",
              "    .dataframe tbody tr th:only-of-type {\n",
              "        vertical-align: middle;\n",
              "    }\n",
              "\n",
              "    .dataframe tbody tr th {\n",
              "        vertical-align: top;\n",
              "    }\n",
              "\n",
              "    .dataframe thead th {\n",
              "        text-align: right;\n",
              "    }\n",
              "</style>\n",
              "<table border=\"1\" class=\"dataframe\">\n",
              "  <thead>\n",
              "    <tr style=\"text-align: right;\">\n",
              "      <th></th>\n",
              "      <th>cgpa</th>\n",
              "      <th>resume_score</th>\n",
              "      <th>placed</th>\n",
              "    </tr>\n",
              "  </thead>\n",
              "  <tbody>\n",
              "    <tr>\n",
              "      <th>0</th>\n",
              "      <td>8.14</td>\n",
              "      <td>6.52</td>\n",
              "      <td>1</td>\n",
              "    </tr>\n",
              "    <tr>\n",
              "      <th>1</th>\n",
              "      <td>6.17</td>\n",
              "      <td>5.17</td>\n",
              "      <td>0</td>\n",
              "    </tr>\n",
              "    <tr>\n",
              "      <th>2</th>\n",
              "      <td>8.27</td>\n",
              "      <td>8.86</td>\n",
              "      <td>1</td>\n",
              "    </tr>\n",
              "    <tr>\n",
              "      <th>3</th>\n",
              "      <td>6.88</td>\n",
              "      <td>7.27</td>\n",
              "      <td>1</td>\n",
              "    </tr>\n",
              "  </tbody>\n",
              "</table>\n",
              "</div>"
            ],
            "text/plain": [
              "   cgpa  resume_score  placed\n",
              "0  8.14          6.52       1\n",
              "1  6.17          5.17       0\n",
              "2  8.27          8.86       1\n",
              "3  6.88          7.27       1"
            ]
          },
          "execution_count": 7,
          "metadata": {},
          "output_type": "execute_result"
        }
      ],
      "source": [
        "top_left_corner_df = df.iloc[:4 , :3]  # iloc[row_range , column_range]\n",
        "top_left_corner_df"
      ]
    },
    {
      "cell_type": "code",
      "execution_count": null,
      "id": "89c8bd9c",
      "metadata": {
        "id": "89c8bd9c",
        "outputId": "cb472845-930e-427f-84fc-48364dd3d270"
      },
      "outputs": [
        {
          "data": {
            "text/html": [
              "<div>\n",
              "<style scoped>\n",
              "    .dataframe tbody tr th:only-of-type {\n",
              "        vertical-align: middle;\n",
              "    }\n",
              "\n",
              "    .dataframe tbody tr th {\n",
              "        vertical-align: top;\n",
              "    }\n",
              "\n",
              "    .dataframe thead th {\n",
              "        text-align: right;\n",
              "    }\n",
              "</style>\n",
              "<table border=\"1\" class=\"dataframe\">\n",
              "  <thead>\n",
              "    <tr style=\"text-align: right;\">\n",
              "      <th></th>\n",
              "      <th>cgpa</th>\n",
              "      <th>placed</th>\n",
              "    </tr>\n",
              "  </thead>\n",
              "  <tbody>\n",
              "    <tr>\n",
              "      <th>1</th>\n",
              "      <td>6.17</td>\n",
              "      <td>0</td>\n",
              "    </tr>\n",
              "    <tr>\n",
              "      <th>2</th>\n",
              "      <td>8.27</td>\n",
              "      <td>1</td>\n",
              "    </tr>\n",
              "    <tr>\n",
              "      <th>3</th>\n",
              "      <td>6.88</td>\n",
              "      <td>1</td>\n",
              "    </tr>\n",
              "  </tbody>\n",
              "</table>\n",
              "</div>"
            ],
            "text/plain": [
              "   cgpa  placed\n",
              "1  6.17       0\n",
              "2  8.27       1\n",
              "3  6.88       1"
            ]
          },
          "execution_count": 5,
          "metadata": {},
          "output_type": "execute_result"
        }
      ],
      "source": [
        "df.loc[1:3 , ['cgpa' , 'placed']]   ### loc[row_range , column_names]"
      ]
    },
    {
      "cell_type": "code",
      "execution_count": null,
      "id": "862135c5",
      "metadata": {
        "id": "862135c5"
      },
      "outputs": [],
      "source": []
    },
    {
      "cell_type": "code",
      "execution_count": null,
      "id": "64eeb7bc",
      "metadata": {
        "id": "64eeb7bc",
        "outputId": "c5a05f46-dd53-4acf-b561-3fd9880d80b7"
      },
      "outputs": [
        {
          "data": {
            "text/plain": [
              "[RangeIndex(start=0, stop=100, step=1),\n",
              " Index(['cgpa', 'resume_score', 'placed'], dtype='object')]"
            ]
          },
          "execution_count": 9,
          "metadata": {},
          "output_type": "execute_result"
        }
      ],
      "source": [
        "s =   df.axes\n",
        "s"
      ]
    },
    {
      "cell_type": "code",
      "execution_count": null,
      "id": "82398df2",
      "metadata": {
        "id": "82398df2",
        "outputId": "4f56dd2a-ccbf-4f4c-8cc7-eae925a00ab6"
      },
      "outputs": [
        {
          "data": {
            "text/plain": [
              "cgpa            float64\n",
              "resume_score    float64\n",
              "placed            int64\n",
              "dtype: object"
            ]
          },
          "execution_count": 10,
          "metadata": {},
          "output_type": "execute_result"
        }
      ],
      "source": [
        "p = df.dtypes\n",
        "p"
      ]
    },
    {
      "cell_type": "code",
      "execution_count": null,
      "id": "a2ee8b0d",
      "metadata": {
        "id": "a2ee8b0d",
        "outputId": "0a8b0aa2-6083-406b-d915-afa285363934"
      },
      "outputs": [
        {
          "data": {
            "text/plain": [
              "False"
            ]
          },
          "execution_count": 11,
          "metadata": {},
          "output_type": "execute_result"
        }
      ],
      "source": [
        "b = df.empty  ### it returns true if there any missing data in dataframe otherwise returns false.\n",
        "b"
      ]
    },
    {
      "cell_type": "code",
      "execution_count": null,
      "id": "f2ef0556",
      "metadata": {
        "id": "f2ef0556"
      },
      "outputs": [],
      "source": [
        "df.isnull().sum() ### for check missing values ."
      ]
    },
    {
      "cell_type": "code",
      "execution_count": null,
      "id": "ba372c27",
      "metadata": {
        "id": "ba372c27"
      },
      "outputs": [],
      "source": [
        "df.dropna() ### for remove missing row ."
      ]
    },
    {
      "cell_type": "code",
      "execution_count": null,
      "id": "91cb27cb",
      "metadata": {
        "id": "91cb27cb",
        "outputId": "a13d6705-99af-4377-9de6-0ee27a14093d"
      },
      "outputs": [
        {
          "data": {
            "text/plain": [
              "2"
            ]
          },
          "execution_count": 12,
          "metadata": {},
          "output_type": "execute_result"
        }
      ],
      "source": [
        "i = df.ndim   #number of axes (it is 2)\n",
        "i"
      ]
    },
    {
      "cell_type": "code",
      "execution_count": null,
      "id": "af90b8ef",
      "metadata": {
        "id": "af90b8ef",
        "outputId": "5e54fe76-7f89-4b3f-f6be-227562b59681"
      },
      "outputs": [
        {
          "data": {
            "text/plain": [
              "(100, 3)"
            ]
          },
          "execution_count": 13,
          "metadata": {},
          "output_type": "execute_result"
        }
      ],
      "source": [
        "t = df.shape  # shape = n(rows) , n(columns)\n",
        "t"
      ]
    },
    {
      "cell_type": "code",
      "execution_count": null,
      "id": "fb653186",
      "metadata": {
        "id": "fb653186",
        "outputId": "23f29d96-9675-4ce7-b06b-5835bd31d981"
      },
      "outputs": [
        {
          "data": {
            "text/plain": [
              "300"
            ]
          },
          "execution_count": 14,
          "metadata": {},
          "output_type": "execute_result"
        }
      ],
      "source": [
        "d = df.size          # row count * column count\n",
        "d"
      ]
    },
    {
      "cell_type": "code",
      "execution_count": null,
      "id": "46867b9a",
      "metadata": {
        "id": "46867b9a",
        "outputId": "1fa75533-a967-4805-cb36-c21425acafc8"
      },
      "outputs": [
        {
          "data": {
            "text/plain": [
              "array([[8.14, 6.52, 1.  ],\n",
              "       [6.17, 5.17, 0.  ],\n",
              "       [8.27, 8.86, 1.  ],\n",
              "       [6.88, 7.27, 1.  ],\n",
              "       [7.52, 7.3 , 1.  ],\n",
              "       [8.77, 6.19, 1.  ],\n",
              "       [5.34, 7.09, 0.  ],\n",
              "       [6.56, 6.29, 0.  ],\n",
              "       [6.32, 6.71, 0.  ],\n",
              "       [7.69, 7.12, 1.  ],\n",
              "       [6.18, 6.35, 0.  ],\n",
              "       [5.44, 6.54, 0.  ],\n",
              "       [6.09, 7.01, 0.  ],\n",
              "       [8.5 , 5.09, 1.  ],\n",
              "       [7.51, 6.25, 1.  ],\n",
              "       [8.88, 5.93, 1.  ],\n",
              "       [8.04, 7.64, 1.  ],\n",
              "       [7.81, 8.71, 1.  ],\n",
              "       [5.94, 5.88, 0.  ],\n",
              "       [6.75, 8.11, 1.  ],\n",
              "       [5.8 , 8.06, 0.  ],\n",
              "       [6.53, 7.64, 0.  ],\n",
              "       [6.16, 5.77, 0.  ],\n",
              "       [6.05, 7.13, 0.  ],\n",
              "       [8.22, 6.18, 1.  ],\n",
              "       [7.76, 5.68, 1.  ],\n",
              "       [6.27, 6.47, 0.  ],\n",
              "       [5.51, 6.15, 0.  ],\n",
              "       [7.46, 7.67, 1.  ],\n",
              "       [6.19, 7.3 , 0.  ],\n",
              "       [7.36, 7.15, 1.  ],\n",
              "       [5.92, 7.02, 0.  ],\n",
              "       [5.87, 7.96, 0.  ],\n",
              "       [8.43, 7.73, 1.  ],\n",
              "       [8.87, 7.19, 1.  ],\n",
              "       [8.07, 7.48, 1.  ],\n",
              "       [8.16, 7.56, 1.  ],\n",
              "       [9.05, 8.21, 1.  ],\n",
              "       [6.  , 8.72, 0.  ],\n",
              "       [7.5 , 6.19, 1.  ],\n",
              "       [8.25, 5.32, 1.  ],\n",
              "       [8.68, 5.15, 1.  ],\n",
              "       [6.9 , 6.91, 1.  ],\n",
              "       [8.21, 7.95, 1.  ],\n",
              "       [5.47, 5.92, 0.  ],\n",
              "       [8.1 , 5.44, 1.  ],\n",
              "       [5.83, 5.21, 0.  ],\n",
              "       [7.05, 8.14, 1.  ],\n",
              "       [5.54, 6.57, 0.  ],\n",
              "       [5.46, 6.73, 0.  ],\n",
              "       [8.22, 6.74, 1.  ],\n",
              "       [6.54, 7.39, 0.  ],\n",
              "       [5.9 , 7.5 , 0.  ],\n",
              "       [6.  , 7.16, 0.  ],\n",
              "       [5.92, 7.18, 0.  ],\n",
              "       [6.94, 6.87, 1.  ],\n",
              "       [6.13, 6.43, 0.  ],\n",
              "       [6.34, 7.21, 0.  ],\n",
              "       [6.47, 7.37, 0.  ],\n",
              "       [5.95, 7.57, 0.  ],\n",
              "       [5.87, 6.64, 0.  ],\n",
              "       [6.89, 7.96, 1.  ],\n",
              "       [5.75, 8.43, 0.  ],\n",
              "       [8.65, 7.58, 1.  ],\n",
              "       [7.93, 8.09, 1.  ],\n",
              "       [6.04, 8.75, 0.  ],\n",
              "       [8.35, 8.02, 1.  ],\n",
              "       [6.59, 6.81, 1.  ],\n",
              "       [6.01, 7.49, 0.  ],\n",
              "       [8.06, 9.06, 1.  ],\n",
              "       [7.12, 7.41, 1.  ],\n",
              "       [7.34, 8.22, 1.  ],\n",
              "       [7.63, 7.98, 1.  ],\n",
              "       [5.76, 6.48, 0.  ],\n",
              "       [5.54, 7.36, 0.  ],\n",
              "       [6.34, 7.94, 1.  ],\n",
              "       [9.4 , 5.5 , 1.  ],\n",
              "       [5.88, 6.92, 0.  ],\n",
              "       [5.79, 5.66, 0.  ],\n",
              "       [5.27, 7.28, 0.  ],\n",
              "       [7.83, 7.7 , 1.  ],\n",
              "       [6.12, 6.72, 0.  ],\n",
              "       [7.92, 6.06, 1.  ],\n",
              "       [7.6 , 8.08, 1.  ],\n",
              "       [5.76, 6.49, 0.  ],\n",
              "       [6.72, 5.46, 0.  ],\n",
              "       [6.18, 5.76, 0.  ],\n",
              "       [5.62, 5.05, 0.  ],\n",
              "       [8.07, 6.07, 1.  ],\n",
              "       [5.99, 7.49, 0.  ],\n",
              "       [5.85, 5.56, 0.  ],\n",
              "       [8.28, 6.3 , 1.  ],\n",
              "       [5.43, 6.18, 0.  ],\n",
              "       [9.31, 7.39, 1.  ],\n",
              "       [8.01, 4.95, 1.  ],\n",
              "       [6.33, 6.38, 0.  ],\n",
              "       [8.23, 7.76, 1.  ],\n",
              "       [6.65, 7.78, 0.  ],\n",
              "       [8.14, 5.63, 1.  ],\n",
              "       [6.09, 6.61, 0.  ]])"
            ]
          },
          "execution_count": 15,
          "metadata": {},
          "output_type": "execute_result"
        }
      ],
      "source": [
        "a = df.values    # get a numpy array for df\n",
        "a"
      ]
    },
    {
      "cell_type": "code",
      "execution_count": null,
      "id": "ad1d2251",
      "metadata": {
        "id": "ad1d2251"
      },
      "outputs": [],
      "source": [
        "df = df.copy()"
      ]
    },
    {
      "cell_type": "code",
      "execution_count": null,
      "id": "1ebbf44c",
      "metadata": {
        "id": "1ebbf44c",
        "outputId": "6a3a9dfe-ed84-4c4a-8185-87fd14b19225"
      },
      "outputs": [
        {
          "data": {
            "text/html": [
              "<div>\n",
              "<style scoped>\n",
              "    .dataframe tbody tr th:only-of-type {\n",
              "        vertical-align: middle;\n",
              "    }\n",
              "\n",
              "    .dataframe tbody tr th {\n",
              "        vertical-align: top;\n",
              "    }\n",
              "\n",
              "    .dataframe thead th {\n",
              "        text-align: right;\n",
              "    }\n",
              "</style>\n",
              "<table border=\"1\" class=\"dataframe\">\n",
              "  <thead>\n",
              "    <tr style=\"text-align: right;\">\n",
              "      <th></th>\n",
              "      <th>cgpa</th>\n",
              "      <th>resume_score</th>\n",
              "      <th>placed</th>\n",
              "    </tr>\n",
              "  </thead>\n",
              "  <tbody>\n",
              "    <tr>\n",
              "      <th>94</th>\n",
              "      <td>8.01</td>\n",
              "      <td>4.95</td>\n",
              "      <td>1</td>\n",
              "    </tr>\n",
              "    <tr>\n",
              "      <th>87</th>\n",
              "      <td>5.62</td>\n",
              "      <td>5.05</td>\n",
              "      <td>0</td>\n",
              "    </tr>\n",
              "    <tr>\n",
              "      <th>13</th>\n",
              "      <td>8.50</td>\n",
              "      <td>5.09</td>\n",
              "      <td>1</td>\n",
              "    </tr>\n",
              "    <tr>\n",
              "      <th>41</th>\n",
              "      <td>8.68</td>\n",
              "      <td>5.15</td>\n",
              "      <td>1</td>\n",
              "    </tr>\n",
              "    <tr>\n",
              "      <th>1</th>\n",
              "      <td>6.17</td>\n",
              "      <td>5.17</td>\n",
              "      <td>0</td>\n",
              "    </tr>\n",
              "    <tr>\n",
              "      <th>...</th>\n",
              "      <td>...</td>\n",
              "      <td>...</td>\n",
              "      <td>...</td>\n",
              "    </tr>\n",
              "    <tr>\n",
              "      <th>17</th>\n",
              "      <td>7.81</td>\n",
              "      <td>8.71</td>\n",
              "      <td>1</td>\n",
              "    </tr>\n",
              "    <tr>\n",
              "      <th>38</th>\n",
              "      <td>6.00</td>\n",
              "      <td>8.72</td>\n",
              "      <td>0</td>\n",
              "    </tr>\n",
              "    <tr>\n",
              "      <th>65</th>\n",
              "      <td>6.04</td>\n",
              "      <td>8.75</td>\n",
              "      <td>0</td>\n",
              "    </tr>\n",
              "    <tr>\n",
              "      <th>2</th>\n",
              "      <td>8.27</td>\n",
              "      <td>8.86</td>\n",
              "      <td>1</td>\n",
              "    </tr>\n",
              "    <tr>\n",
              "      <th>69</th>\n",
              "      <td>8.06</td>\n",
              "      <td>9.06</td>\n",
              "      <td>1</td>\n",
              "    </tr>\n",
              "  </tbody>\n",
              "</table>\n",
              "<p>100 rows × 3 columns</p>\n",
              "</div>"
            ],
            "text/plain": [
              "    cgpa  resume_score  placed\n",
              "94  8.01          4.95       1\n",
              "87  5.62          5.05       0\n",
              "13  8.50          5.09       1\n",
              "41  8.68          5.15       1\n",
              "1   6.17          5.17       0\n",
              "..   ...           ...     ...\n",
              "17  7.81          8.71       1\n",
              "38  6.00          8.72       0\n",
              "65  6.04          8.75       0\n",
              "2   8.27          8.86       1\n",
              "69  8.06          9.06       1\n",
              "\n",
              "[100 rows x 3 columns]"
            ]
          },
          "execution_count": 8,
          "metadata": {},
          "output_type": "execute_result"
        }
      ],
      "source": [
        "p = df.sort_values(by = 'resume_score')\n",
        "p"
      ]
    },
    {
      "cell_type": "code",
      "execution_count": null,
      "id": "8cfb32de",
      "metadata": {
        "id": "8cfb32de",
        "outputId": "f646ef3e-1284-46f0-a276-701f905e65cf"
      },
      "outputs": [
        {
          "data": {
            "text/html": [
              "<div>\n",
              "<style scoped>\n",
              "    .dataframe tbody tr th:only-of-type {\n",
              "        vertical-align: middle;\n",
              "    }\n",
              "\n",
              "    .dataframe tbody tr th {\n",
              "        vertical-align: top;\n",
              "    }\n",
              "\n",
              "    .dataframe thead th {\n",
              "        text-align: right;\n",
              "    }\n",
              "</style>\n",
              "<table border=\"1\" class=\"dataframe\">\n",
              "  <thead>\n",
              "    <tr style=\"text-align: right;\">\n",
              "      <th></th>\n",
              "      <th>cgpa</th>\n",
              "      <th>resume_score</th>\n",
              "      <th>placed</th>\n",
              "    </tr>\n",
              "  </thead>\n",
              "  <tbody>\n",
              "    <tr>\n",
              "      <th>0</th>\n",
              "      <td>8.14</td>\n",
              "      <td>6.52</td>\n",
              "      <td>1</td>\n",
              "    </tr>\n",
              "    <tr>\n",
              "      <th>1</th>\n",
              "      <td>6.17</td>\n",
              "      <td>5.17</td>\n",
              "      <td>0</td>\n",
              "    </tr>\n",
              "    <tr>\n",
              "      <th>2</th>\n",
              "      <td>8.27</td>\n",
              "      <td>8.86</td>\n",
              "      <td>1</td>\n",
              "    </tr>\n",
              "    <tr>\n",
              "      <th>3</th>\n",
              "      <td>6.88</td>\n",
              "      <td>7.27</td>\n",
              "      <td>1</td>\n",
              "    </tr>\n",
              "    <tr>\n",
              "      <th>4</th>\n",
              "      <td>7.52</td>\n",
              "      <td>7.30</td>\n",
              "      <td>1</td>\n",
              "    </tr>\n",
              "    <tr>\n",
              "      <th>...</th>\n",
              "      <td>...</td>\n",
              "      <td>...</td>\n",
              "      <td>...</td>\n",
              "    </tr>\n",
              "    <tr>\n",
              "      <th>95</th>\n",
              "      <td>6.33</td>\n",
              "      <td>6.38</td>\n",
              "      <td>0</td>\n",
              "    </tr>\n",
              "    <tr>\n",
              "      <th>96</th>\n",
              "      <td>8.23</td>\n",
              "      <td>7.76</td>\n",
              "      <td>1</td>\n",
              "    </tr>\n",
              "    <tr>\n",
              "      <th>97</th>\n",
              "      <td>6.65</td>\n",
              "      <td>7.78</td>\n",
              "      <td>0</td>\n",
              "    </tr>\n",
              "    <tr>\n",
              "      <th>98</th>\n",
              "      <td>8.14</td>\n",
              "      <td>5.63</td>\n",
              "      <td>1</td>\n",
              "    </tr>\n",
              "    <tr>\n",
              "      <th>99</th>\n",
              "      <td>6.09</td>\n",
              "      <td>6.61</td>\n",
              "      <td>0</td>\n",
              "    </tr>\n",
              "  </tbody>\n",
              "</table>\n",
              "<p>100 rows × 3 columns</p>\n",
              "</div>"
            ],
            "text/plain": [
              "    cgpa  resume_score  placed\n",
              "0   8.14          6.52       1\n",
              "1   6.17          5.17       0\n",
              "2   8.27          8.86       1\n",
              "3   6.88          7.27       1\n",
              "4   7.52          7.30       1\n",
              "..   ...           ...     ...\n",
              "95  6.33          6.38       0\n",
              "96  8.23          7.76       1\n",
              "97  6.65          7.78       0\n",
              "98  8.14          5.63       1\n",
              "99  6.09          6.61       0\n",
              "\n",
              "[100 rows x 3 columns]"
            ]
          },
          "execution_count": 9,
          "metadata": {},
          "output_type": "execute_result"
        }
      ],
      "source": [
        "r = df.sort_index()\n",
        "r"
      ]
    },
    {
      "cell_type": "code",
      "execution_count": null,
      "id": "d61ef4c3",
      "metadata": {
        "id": "d61ef4c3",
        "outputId": "f0bb503d-8374-4202-8bd0-5adce496d01d"
      },
      "outputs": [
        {
          "data": {
            "text/html": [
              "<div>\n",
              "<style scoped>\n",
              "    .dataframe tbody tr th:only-of-type {\n",
              "        vertical-align: middle;\n",
              "    }\n",
              "\n",
              "    .dataframe tbody tr th {\n",
              "        vertical-align: top;\n",
              "    }\n",
              "\n",
              "    .dataframe thead th {\n",
              "        text-align: right;\n",
              "    }\n",
              "</style>\n",
              "<table border=\"1\" class=\"dataframe\">\n",
              "  <thead>\n",
              "    <tr style=\"text-align: right;\">\n",
              "      <th></th>\n",
              "      <th>cgpa</th>\n",
              "      <th>resume_score</th>\n",
              "      <th>placed</th>\n",
              "    </tr>\n",
              "  </thead>\n",
              "  <tbody>\n",
              "    <tr>\n",
              "      <th>0</th>\n",
              "      <td>80</td>\n",
              "      <td>36</td>\n",
              "      <td>75</td>\n",
              "    </tr>\n",
              "    <tr>\n",
              "      <th>1</th>\n",
              "      <td>37</td>\n",
              "      <td>5</td>\n",
              "      <td>25</td>\n",
              "    </tr>\n",
              "    <tr>\n",
              "      <th>2</th>\n",
              "      <td>88</td>\n",
              "      <td>99</td>\n",
              "      <td>75</td>\n",
              "    </tr>\n",
              "    <tr>\n",
              "      <th>3</th>\n",
              "      <td>54</td>\n",
              "      <td>59</td>\n",
              "      <td>75</td>\n",
              "    </tr>\n",
              "    <tr>\n",
              "      <th>4</th>\n",
              "      <td>65</td>\n",
              "      <td>61</td>\n",
              "      <td>75</td>\n",
              "    </tr>\n",
              "    <tr>\n",
              "      <th>...</th>\n",
              "      <td>...</td>\n",
              "      <td>...</td>\n",
              "      <td>...</td>\n",
              "    </tr>\n",
              "    <tr>\n",
              "      <th>95</th>\n",
              "      <td>43</td>\n",
              "      <td>31</td>\n",
              "      <td>25</td>\n",
              "    </tr>\n",
              "    <tr>\n",
              "      <th>96</th>\n",
              "      <td>86</td>\n",
              "      <td>80</td>\n",
              "      <td>75</td>\n",
              "    </tr>\n",
              "    <tr>\n",
              "      <th>97</th>\n",
              "      <td>51</td>\n",
              "      <td>81</td>\n",
              "      <td>25</td>\n",
              "    </tr>\n",
              "    <tr>\n",
              "      <th>98</th>\n",
              "      <td>80</td>\n",
              "      <td>12</td>\n",
              "      <td>75</td>\n",
              "    </tr>\n",
              "    <tr>\n",
              "      <th>99</th>\n",
              "      <td>32</td>\n",
              "      <td>39</td>\n",
              "      <td>25</td>\n",
              "    </tr>\n",
              "  </tbody>\n",
              "</table>\n",
              "<p>100 rows × 3 columns</p>\n",
              "</div>"
            ],
            "text/plain": [
              "    cgpa  resume_score  placed\n",
              "0     80            36      75\n",
              "1     37             5      25\n",
              "2     88            99      75\n",
              "3     54            59      75\n",
              "4     65            61      75\n",
              "..   ...           ...     ...\n",
              "95    43            31      25\n",
              "96    86            80      75\n",
              "97    51            81      25\n",
              "98    80            12      75\n",
              "99    32            39      25\n",
              "\n",
              "[100 rows x 3 columns]"
            ]
          },
          "execution_count": 21,
          "metadata": {},
          "output_type": "execute_result"
        }
      ],
      "source": [
        "# x = df.astype(int)   # type conversion\n",
        "df['cgpa'] = df['cgpa'].astype(int)\n",
        "# df"
      ]
    },
    {
      "cell_type": "code",
      "execution_count": null,
      "id": "434e4d80",
      "metadata": {
        "id": "434e4d80"
      },
      "outputs": [],
      "source": [
        "df['Salary'].astype(float)"
      ]
    },
    {
      "cell_type": "code",
      "execution_count": null,
      "id": "749b6343",
      "metadata": {
        "id": "749b6343",
        "outputId": "a2162836-0dea-423f-9a4e-35498d4edaf1"
      },
      "outputs": [
        {
          "data": {
            "text/html": [
              "<div>\n",
              "<style scoped>\n",
              "    .dataframe tbody tr th:only-of-type {\n",
              "        vertical-align: middle;\n",
              "    }\n",
              "\n",
              "    .dataframe tbody tr th {\n",
              "        vertical-align: top;\n",
              "    }\n",
              "\n",
              "    .dataframe thead th {\n",
              "        text-align: right;\n",
              "    }\n",
              "</style>\n",
              "<table border=\"1\" class=\"dataframe\">\n",
              "  <thead>\n",
              "    <tr style=\"text-align: right;\">\n",
              "      <th></th>\n",
              "      <th>cgpa</th>\n",
              "      <th>resume_score</th>\n",
              "      <th>placed</th>\n",
              "    </tr>\n",
              "  </thead>\n",
              "  <tbody>\n",
              "    <tr>\n",
              "      <th>0</th>\n",
              "      <td>80.5</td>\n",
              "      <td>36.0</td>\n",
              "      <td>75.5</td>\n",
              "    </tr>\n",
              "    <tr>\n",
              "      <th>1</th>\n",
              "      <td>37.0</td>\n",
              "      <td>5.0</td>\n",
              "      <td>25.5</td>\n",
              "    </tr>\n",
              "    <tr>\n",
              "      <th>2</th>\n",
              "      <td>88.0</td>\n",
              "      <td>99.0</td>\n",
              "      <td>75.5</td>\n",
              "    </tr>\n",
              "    <tr>\n",
              "      <th>3</th>\n",
              "      <td>54.0</td>\n",
              "      <td>59.0</td>\n",
              "      <td>75.5</td>\n",
              "    </tr>\n",
              "    <tr>\n",
              "      <th>4</th>\n",
              "      <td>65.0</td>\n",
              "      <td>61.5</td>\n",
              "      <td>75.5</td>\n",
              "    </tr>\n",
              "    <tr>\n",
              "      <th>...</th>\n",
              "      <td>...</td>\n",
              "      <td>...</td>\n",
              "      <td>...</td>\n",
              "    </tr>\n",
              "    <tr>\n",
              "      <th>95</th>\n",
              "      <td>43.0</td>\n",
              "      <td>31.0</td>\n",
              "      <td>25.5</td>\n",
              "    </tr>\n",
              "    <tr>\n",
              "      <th>96</th>\n",
              "      <td>86.0</td>\n",
              "      <td>80.0</td>\n",
              "      <td>75.5</td>\n",
              "    </tr>\n",
              "    <tr>\n",
              "      <th>97</th>\n",
              "      <td>51.0</td>\n",
              "      <td>81.0</td>\n",
              "      <td>25.5</td>\n",
              "    </tr>\n",
              "    <tr>\n",
              "      <th>98</th>\n",
              "      <td>80.5</td>\n",
              "      <td>12.0</td>\n",
              "      <td>75.5</td>\n",
              "    </tr>\n",
              "    <tr>\n",
              "      <th>99</th>\n",
              "      <td>32.5</td>\n",
              "      <td>39.0</td>\n",
              "      <td>25.5</td>\n",
              "    </tr>\n",
              "  </tbody>\n",
              "</table>\n",
              "<p>100 rows × 3 columns</p>\n",
              "</div>"
            ],
            "text/plain": [
              "    cgpa  resume_score  placed\n",
              "0   80.5          36.0    75.5\n",
              "1   37.0           5.0    25.5\n",
              "2   88.0          99.0    75.5\n",
              "3   54.0          59.0    75.5\n",
              "4   65.0          61.5    75.5\n",
              "..   ...           ...     ...\n",
              "95  43.0          31.0    25.5\n",
              "96  86.0          80.0    75.5\n",
              "97  51.0          81.0    25.5\n",
              "98  80.5          12.0    75.5\n",
              "99  32.5          39.0    25.5\n",
              "\n",
              "[100 rows x 3 columns]"
            ]
          },
          "execution_count": 22,
          "metadata": {},
          "output_type": "execute_result"
        }
      ],
      "source": [
        "s = df.abs()\n",
        "s"
      ]
    },
    {
      "cell_type": "code",
      "execution_count": null,
      "id": "85911e81",
      "metadata": {
        "id": "85911e81",
        "outputId": "c4694b8a-ba53-4067-df9f-d0e190152895"
      },
      "outputs": [
        {
          "data": {
            "text/html": [
              "<div>\n",
              "<style scoped>\n",
              "    .dataframe tbody tr th:only-of-type {\n",
              "        vertical-align: middle;\n",
              "    }\n",
              "\n",
              "    .dataframe tbody tr th {\n",
              "        vertical-align: top;\n",
              "    }\n",
              "\n",
              "    .dataframe thead th {\n",
              "        text-align: right;\n",
              "    }\n",
              "</style>\n",
              "<table border=\"1\" class=\"dataframe\">\n",
              "  <thead>\n",
              "    <tr style=\"text-align: right;\">\n",
              "      <th></th>\n",
              "      <th>cgpa</th>\n",
              "      <th>resume_score</th>\n",
              "      <th>placed</th>\n",
              "    </tr>\n",
              "  </thead>\n",
              "  <tbody>\n",
              "    <tr>\n",
              "      <th>0</th>\n",
              "      <td>84.5</td>\n",
              "      <td>40.0</td>\n",
              "      <td>79.5</td>\n",
              "    </tr>\n",
              "    <tr>\n",
              "      <th>1</th>\n",
              "      <td>41.0</td>\n",
              "      <td>9.0</td>\n",
              "      <td>29.5</td>\n",
              "    </tr>\n",
              "    <tr>\n",
              "      <th>2</th>\n",
              "      <td>92.0</td>\n",
              "      <td>103.0</td>\n",
              "      <td>79.5</td>\n",
              "    </tr>\n",
              "    <tr>\n",
              "      <th>3</th>\n",
              "      <td>58.0</td>\n",
              "      <td>63.0</td>\n",
              "      <td>79.5</td>\n",
              "    </tr>\n",
              "    <tr>\n",
              "      <th>4</th>\n",
              "      <td>69.0</td>\n",
              "      <td>65.5</td>\n",
              "      <td>79.5</td>\n",
              "    </tr>\n",
              "    <tr>\n",
              "      <th>...</th>\n",
              "      <td>...</td>\n",
              "      <td>...</td>\n",
              "      <td>...</td>\n",
              "    </tr>\n",
              "    <tr>\n",
              "      <th>95</th>\n",
              "      <td>47.0</td>\n",
              "      <td>35.0</td>\n",
              "      <td>29.5</td>\n",
              "    </tr>\n",
              "    <tr>\n",
              "      <th>96</th>\n",
              "      <td>90.0</td>\n",
              "      <td>84.0</td>\n",
              "      <td>79.5</td>\n",
              "    </tr>\n",
              "    <tr>\n",
              "      <th>97</th>\n",
              "      <td>55.0</td>\n",
              "      <td>85.0</td>\n",
              "      <td>29.5</td>\n",
              "    </tr>\n",
              "    <tr>\n",
              "      <th>98</th>\n",
              "      <td>84.5</td>\n",
              "      <td>16.0</td>\n",
              "      <td>79.5</td>\n",
              "    </tr>\n",
              "    <tr>\n",
              "      <th>99</th>\n",
              "      <td>36.5</td>\n",
              "      <td>43.0</td>\n",
              "      <td>29.5</td>\n",
              "    </tr>\n",
              "  </tbody>\n",
              "</table>\n",
              "<p>100 rows × 3 columns</p>\n",
              "</div>"
            ],
            "text/plain": [
              "    cgpa  resume_score  placed\n",
              "0   84.5          40.0    79.5\n",
              "1   41.0           9.0    29.5\n",
              "2   92.0         103.0    79.5\n",
              "3   58.0          63.0    79.5\n",
              "4   69.0          65.5    79.5\n",
              "..   ...           ...     ...\n",
              "95  47.0          35.0    29.5\n",
              "96  90.0          84.0    79.5\n",
              "97  55.0          85.0    29.5\n",
              "98  84.5          16.0    79.5\n",
              "99  36.5          43.0    29.5\n",
              "\n",
              "[100 rows x 3 columns]"
            ]
          },
          "execution_count": 23,
          "metadata": {},
          "output_type": "execute_result"
        }
      ],
      "source": [
        "# t = df.add(4)\n",
        "t\n",
        "df['cgpa'] = df['cgpa'].add(4)"
      ]
    },
    {
      "cell_type": "code",
      "execution_count": null,
      "id": "9c27249b",
      "metadata": {
        "id": "9c27249b"
      },
      "outputs": [],
      "source": [
        "df['cgpa'].add(10)"
      ]
    },
    {
      "cell_type": "code",
      "execution_count": null,
      "id": "312c4afd",
      "metadata": {
        "id": "312c4afd",
        "outputId": "79afbbbb-c231-4873-86e0-9adcc128b5db"
      },
      "outputs": [
        {
          "data": {
            "text/plain": [
              "cgpa            100\n",
              "resume_score    100\n",
              "placed          100\n",
              "dtype: int64"
            ]
          },
          "execution_count": 24,
          "metadata": {},
          "output_type": "execute_result"
        }
      ],
      "source": [
        "s = df.count()\n",
        "s"
      ]
    },
    {
      "cell_type": "code",
      "execution_count": null,
      "id": "94309102",
      "metadata": {
        "id": "94309102",
        "outputId": "c7aaaf21-a417-47d5-b154-97d590d6e9a1"
      },
      "outputs": [
        {
          "data": {
            "text/plain": [
              "cgpa            100.0\n",
              "resume_score    100.0\n",
              "placed           75.5\n",
              "dtype: float64"
            ]
          },
          "execution_count": 25,
          "metadata": {},
          "output_type": "execute_result"
        }
      ],
      "source": [
        "p = df.max()\n",
        "p"
      ]
    },
    {
      "cell_type": "code",
      "execution_count": null,
      "id": "eea5dc67",
      "metadata": {
        "id": "eea5dc67",
        "outputId": "7d89276a-ba96-451a-e658-74125692ee7c"
      },
      "outputs": [
        {
          "data": {
            "text/plain": [
              "cgpa             1.0\n",
              "resume_score     1.0\n",
              "placed          25.5\n",
              "dtype: float64"
            ]
          },
          "execution_count": 26,
          "metadata": {},
          "output_type": "execute_result"
        }
      ],
      "source": [
        "q = df.min()\n",
        "q"
      ]
    },
    {
      "cell_type": "code",
      "execution_count": null,
      "id": "d9eaf2f0",
      "metadata": {
        "id": "d9eaf2f0",
        "outputId": "a43d554d-afac-408d-9a41-7b0e11f3d7d3"
      },
      "outputs": [
        {
          "data": {
            "text/plain": [
              "cgpa            50.5\n",
              "resume_score    50.5\n",
              "placed          50.5\n",
              "dtype: float64"
            ]
          },
          "execution_count": 27,
          "metadata": {},
          "output_type": "execute_result"
        }
      ],
      "source": [
        "r = df['cgpa'].mean()\n",
        "r"
      ]
    },
    {
      "cell_type": "code",
      "execution_count": null,
      "id": "9c11443f",
      "metadata": {
        "id": "9c11443f",
        "outputId": "265b0970-2c17-4bcd-f908-9e66e9879db6"
      },
      "outputs": [
        {
          "data": {
            "text/plain": [
              "cgpa            50.5\n",
              "resume_score    50.5\n",
              "placed          50.5\n",
              "dtype: float64"
            ]
          },
          "execution_count": 28,
          "metadata": {},
          "output_type": "execute_result"
        }
      ],
      "source": [
        "s = df['cgpa'].median()\n",
        "s"
      ]
    },
    {
      "cell_type": "code",
      "execution_count": null,
      "id": "add77c9d",
      "metadata": {
        "id": "add77c9d",
        "outputId": "dfadde95-5580-4dd1-c7bb-f8712975447b"
      },
      "outputs": [
        {
          "data": {
            "text/plain": [
              "cgpa            5050.0\n",
              "resume_score    5050.0\n",
              "placed          5050.0\n",
              "dtype: float64"
            ]
          },
          "execution_count": 29,
          "metadata": {},
          "output_type": "execute_result"
        }
      ],
      "source": [
        "s = df.sum()\n",
        "s"
      ]
    },
    {
      "cell_type": "code",
      "execution_count": null,
      "id": "d10dd9d3",
      "metadata": {
        "id": "d10dd9d3",
        "outputId": "46a40dbf-f56f-48d8-d64f-c1659d0693f5"
      },
      "outputs": [
        {
          "data": {
            "text/html": [
              "<div>\n",
              "<style scoped>\n",
              "    .dataframe tbody tr th:only-of-type {\n",
              "        vertical-align: middle;\n",
              "    }\n",
              "\n",
              "    .dataframe tbody tr th {\n",
              "        vertical-align: top;\n",
              "    }\n",
              "\n",
              "    .dataframe thead th {\n",
              "        text-align: right;\n",
              "    }\n",
              "</style>\n",
              "<table border=\"1\" class=\"dataframe\">\n",
              "  <thead>\n",
              "    <tr style=\"text-align: right;\">\n",
              "      <th></th>\n",
              "      <th>cgpa</th>\n",
              "      <th>placed</th>\n",
              "    </tr>\n",
              "  </thead>\n",
              "  <tbody>\n",
              "    <tr>\n",
              "      <th>0</th>\n",
              "      <td>80.5</td>\n",
              "      <td>75.5</td>\n",
              "    </tr>\n",
              "    <tr>\n",
              "      <th>1</th>\n",
              "      <td>37.0</td>\n",
              "      <td>25.5</td>\n",
              "    </tr>\n",
              "    <tr>\n",
              "      <th>2</th>\n",
              "      <td>88.0</td>\n",
              "      <td>75.5</td>\n",
              "    </tr>\n",
              "    <tr>\n",
              "      <th>3</th>\n",
              "      <td>54.0</td>\n",
              "      <td>75.5</td>\n",
              "    </tr>\n",
              "    <tr>\n",
              "      <th>4</th>\n",
              "      <td>65.0</td>\n",
              "      <td>75.5</td>\n",
              "    </tr>\n",
              "    <tr>\n",
              "      <th>...</th>\n",
              "      <td>...</td>\n",
              "      <td>...</td>\n",
              "    </tr>\n",
              "    <tr>\n",
              "      <th>95</th>\n",
              "      <td>43.0</td>\n",
              "      <td>25.5</td>\n",
              "    </tr>\n",
              "    <tr>\n",
              "      <th>96</th>\n",
              "      <td>86.0</td>\n",
              "      <td>75.5</td>\n",
              "    </tr>\n",
              "    <tr>\n",
              "      <th>97</th>\n",
              "      <td>51.0</td>\n",
              "      <td>25.5</td>\n",
              "    </tr>\n",
              "    <tr>\n",
              "      <th>98</th>\n",
              "      <td>80.5</td>\n",
              "      <td>75.5</td>\n",
              "    </tr>\n",
              "    <tr>\n",
              "      <th>99</th>\n",
              "      <td>32.5</td>\n",
              "      <td>25.5</td>\n",
              "    </tr>\n",
              "  </tbody>\n",
              "</table>\n",
              "<p>100 rows × 2 columns</p>\n",
              "</div>"
            ],
            "text/plain": [
              "    cgpa  placed\n",
              "0   80.5    75.5\n",
              "1   37.0    25.5\n",
              "2   88.0    75.5\n",
              "3   54.0    75.5\n",
              "4   65.0    75.5\n",
              "..   ...     ...\n",
              "95  43.0    25.5\n",
              "96  86.0    75.5\n",
              "97  51.0    25.5\n",
              "98  80.5    75.5\n",
              "99  32.5    25.5\n",
              "\n",
              "[100 rows x 2 columns]"
            ]
          },
          "execution_count": 30,
          "metadata": {},
          "output_type": "execute_result"
        }
      ],
      "source": [
        "g = df.filter(items = ['cgpa' , 'placed'])\n",
        "g\n",
        "\n",
        "df[['cgpa' , 'placed']]   #### second option of filtering"
      ]
    },
    {
      "cell_type": "code",
      "execution_count": null,
      "id": "0eb7cb06",
      "metadata": {
        "id": "0eb7cb06",
        "outputId": "3318ef09-100f-408a-b3be-69dc83dc8d11"
      },
      "outputs": [
        {
          "data": {
            "text/html": [
              "<div>\n",
              "<style scoped>\n",
              "    .dataframe tbody tr th:only-of-type {\n",
              "        vertical-align: middle;\n",
              "    }\n",
              "\n",
              "    .dataframe tbody tr th {\n",
              "        vertical-align: top;\n",
              "    }\n",
              "\n",
              "    .dataframe thead th {\n",
              "        text-align: right;\n",
              "    }\n",
              "</style>\n",
              "<table border=\"1\" class=\"dataframe\">\n",
              "  <thead>\n",
              "    <tr style=\"text-align: right;\">\n",
              "      <th></th>\n",
              "      <th>cgpa</th>\n",
              "      <th>resume_score</th>\n",
              "      <th>placed</th>\n",
              "    </tr>\n",
              "  </thead>\n",
              "  <tbody>\n",
              "    <tr>\n",
              "      <th>5</th>\n",
              "      <td>95.0</td>\n",
              "      <td>25.5</td>\n",
              "      <td>75.5</td>\n",
              "    </tr>\n",
              "    <tr>\n",
              "      <th>6</th>\n",
              "      <td>2.0</td>\n",
              "      <td>51.0</td>\n",
              "      <td>25.5</td>\n",
              "    </tr>\n",
              "  </tbody>\n",
              "</table>\n",
              "</div>"
            ],
            "text/plain": [
              "   cgpa  resume_score  placed\n",
              "5  95.0          25.5    75.5\n",
              "6   2.0          51.0    25.5"
            ]
          },
          "execution_count": 31,
          "metadata": {},
          "output_type": "execute_result"
        }
      ],
      "source": [
        "s = df.filter(items = [5,6] , axis = 0) ### axis = 0 means row wise operation\n",
        "s"
      ]
    },
    {
      "cell_type": "code",
      "execution_count": null,
      "id": "3e7a36b6",
      "metadata": {
        "id": "3e7a36b6",
        "outputId": "e24a9980-7a80-4fb0-92b9-6f97a32ef2e0"
      },
      "outputs": [
        {
          "data": {
            "text/html": [
              "<div>\n",
              "<style scoped>\n",
              "    .dataframe tbody tr th:only-of-type {\n",
              "        vertical-align: middle;\n",
              "    }\n",
              "\n",
              "    .dataframe tbody tr th {\n",
              "        vertical-align: top;\n",
              "    }\n",
              "\n",
              "    .dataframe thead th {\n",
              "        text-align: right;\n",
              "    }\n",
              "</style>\n",
              "<table border=\"1\" class=\"dataframe\">\n",
              "  <thead>\n",
              "    <tr style=\"text-align: right;\">\n",
              "      <th></th>\n",
              "      <th>cgpa</th>\n",
              "      <th>resume_score</th>\n",
              "      <th>placed</th>\n",
              "    </tr>\n",
              "  </thead>\n",
              "  <tbody>\n",
              "    <tr>\n",
              "      <th>5</th>\n",
              "      <td>95.0</td>\n",
              "      <td>25.5</td>\n",
              "      <td>75.5</td>\n",
              "    </tr>\n",
              "    <tr>\n",
              "      <th>15</th>\n",
              "      <td>97.0</td>\n",
              "      <td>19.0</td>\n",
              "      <td>75.5</td>\n",
              "    </tr>\n",
              "    <tr>\n",
              "      <th>25</th>\n",
              "      <td>69.0</td>\n",
              "      <td>14.0</td>\n",
              "      <td>75.5</td>\n",
              "    </tr>\n",
              "    <tr>\n",
              "      <th>35</th>\n",
              "      <td>77.5</td>\n",
              "      <td>68.0</td>\n",
              "      <td>75.5</td>\n",
              "    </tr>\n",
              "    <tr>\n",
              "      <th>45</th>\n",
              "      <td>79.0</td>\n",
              "      <td>8.0</td>\n",
              "      <td>75.5</td>\n",
              "    </tr>\n",
              "    <tr>\n",
              "      <th>50</th>\n",
              "      <td>84.5</td>\n",
              "      <td>44.0</td>\n",
              "      <td>75.5</td>\n",
              "    </tr>\n",
              "    <tr>\n",
              "      <th>51</th>\n",
              "      <td>48.0</td>\n",
              "      <td>65.5</td>\n",
              "      <td>25.5</td>\n",
              "    </tr>\n",
              "    <tr>\n",
              "      <th>52</th>\n",
              "      <td>21.0</td>\n",
              "      <td>71.0</td>\n",
              "      <td>25.5</td>\n",
              "    </tr>\n",
              "    <tr>\n",
              "      <th>53</th>\n",
              "      <td>27.5</td>\n",
              "      <td>55.0</td>\n",
              "      <td>25.5</td>\n",
              "    </tr>\n",
              "    <tr>\n",
              "      <th>54</th>\n",
              "      <td>22.5</td>\n",
              "      <td>56.0</td>\n",
              "      <td>25.5</td>\n",
              "    </tr>\n",
              "    <tr>\n",
              "      <th>55</th>\n",
              "      <td>57.0</td>\n",
              "      <td>46.0</td>\n",
              "      <td>75.5</td>\n",
              "    </tr>\n",
              "    <tr>\n",
              "      <th>56</th>\n",
              "      <td>35.0</td>\n",
              "      <td>32.0</td>\n",
              "      <td>25.5</td>\n",
              "    </tr>\n",
              "    <tr>\n",
              "      <th>57</th>\n",
              "      <td>44.5</td>\n",
              "      <td>58.0</td>\n",
              "      <td>25.5</td>\n",
              "    </tr>\n",
              "    <tr>\n",
              "      <th>58</th>\n",
              "      <td>46.0</td>\n",
              "      <td>64.0</td>\n",
              "      <td>25.5</td>\n",
              "    </tr>\n",
              "    <tr>\n",
              "      <th>59</th>\n",
              "      <td>25.0</td>\n",
              "      <td>73.0</td>\n",
              "      <td>25.5</td>\n",
              "    </tr>\n",
              "    <tr>\n",
              "      <th>65</th>\n",
              "      <td>30.0</td>\n",
              "      <td>98.0</td>\n",
              "      <td>25.5</td>\n",
              "    </tr>\n",
              "    <tr>\n",
              "      <th>75</th>\n",
              "      <td>44.5</td>\n",
              "      <td>82.0</td>\n",
              "      <td>75.5</td>\n",
              "    </tr>\n",
              "    <tr>\n",
              "      <th>85</th>\n",
              "      <td>52.0</td>\n",
              "      <td>9.0</td>\n",
              "      <td>25.5</td>\n",
              "    </tr>\n",
              "    <tr>\n",
              "      <th>95</th>\n",
              "      <td>43.0</td>\n",
              "      <td>31.0</td>\n",
              "      <td>25.5</td>\n",
              "    </tr>\n",
              "  </tbody>\n",
              "</table>\n",
              "</div>"
            ],
            "text/plain": [
              "    cgpa  resume_score  placed\n",
              "5   95.0          25.5    75.5\n",
              "15  97.0          19.0    75.5\n",
              "25  69.0          14.0    75.5\n",
              "35  77.5          68.0    75.5\n",
              "45  79.0           8.0    75.5\n",
              "50  84.5          44.0    75.5\n",
              "51  48.0          65.5    25.5\n",
              "52  21.0          71.0    25.5\n",
              "53  27.5          55.0    25.5\n",
              "54  22.5          56.0    25.5\n",
              "55  57.0          46.0    75.5\n",
              "56  35.0          32.0    25.5\n",
              "57  44.5          58.0    25.5\n",
              "58  46.0          64.0    25.5\n",
              "59  25.0          73.0    25.5\n",
              "65  30.0          98.0    25.5\n",
              "75  44.5          82.0    75.5\n",
              "85  52.0           9.0    25.5\n",
              "95  43.0          31.0    25.5"
            ]
          },
          "execution_count": 32,
          "metadata": {},
          "output_type": "execute_result"
        }
      ],
      "source": [
        "t = df.filter(like = '5' , axis = 0)\n",
        "t"
      ]
    },
    {
      "cell_type": "code",
      "execution_count": null,
      "id": "954d8c8d",
      "metadata": {
        "id": "954d8c8d"
      },
      "outputs": [],
      "source": [
        "s = df.to_dict()    # save in dictionary\n",
        "# s"
      ]
    },
    {
      "cell_type": "code",
      "execution_count": null,
      "id": "9eaa18dd",
      "metadata": {
        "id": "9eaa18dd"
      },
      "outputs": [],
      "source": [
        "q = df.to_string()    # save in string\n",
        "# q"
      ]
    },
    {
      "cell_type": "code",
      "execution_count": null,
      "id": "bab0fba8",
      "metadata": {
        "id": "bab0fba8"
      },
      "outputs": [],
      "source": [
        "e = df.to_csv(\"path_location\")"
      ]
    },
    {
      "cell_type": "code",
      "execution_count": null,
      "id": "3250a67e",
      "metadata": {
        "id": "3250a67e",
        "outputId": "3f7390a9-ead7-49da-bd78-1f4ca71f3331"
      },
      "outputs": [
        {
          "data": {
            "text/plain": [
              "Index(['cgpa', 'resume_score', 'placed'], dtype='object')"
            ]
          },
          "execution_count": 14,
          "metadata": {},
          "output_type": "execute_result"
        }
      ],
      "source": [
        "idx = df.columns\n",
        "idx"
      ]
    },
    {
      "cell_type": "code",
      "execution_count": null,
      "id": "9ff1bcb3",
      "metadata": {
        "id": "9ff1bcb3",
        "outputId": "70b4b619-5b30-47b0-cdc3-5bc86f46fe20"
      },
      "outputs": [
        {
          "data": {
            "text/plain": [
              "'cgpa'"
            ]
          },
          "execution_count": 17,
          "metadata": {},
          "output_type": "execute_result"
        }
      ],
      "source": [
        "label = df.columns[0]  # first column label\n",
        "label"
      ]
    },
    {
      "cell_type": "code",
      "execution_count": null,
      "id": "2c91e81a",
      "metadata": {
        "id": "2c91e81a",
        "outputId": "d20d807b-de98-4986-adac-46c3fd02ef29"
      },
      "outputs": [
        {
          "data": {
            "text/plain": [
              "['cgpa', 'resume_score', 'placed']"
            ]
          },
          "execution_count": 37,
          "metadata": {},
          "output_type": "execute_result"
        }
      ],
      "source": [
        "p = df.columns.tolist()    # list of column labels\n",
        "p"
      ]
    },
    {
      "cell_type": "code",
      "execution_count": null,
      "id": "65a691f2",
      "metadata": {
        "id": "65a691f2",
        "outputId": "8a303e6c-6025-4f25-fe96-8cb610c58876"
      },
      "outputs": [
        {
          "data": {
            "text/plain": [
              "array(['cgpa', 'resume_score', 'placed'], dtype=object)"
            ]
          },
          "execution_count": 38,
          "metadata": {},
          "output_type": "execute_result"
        }
      ],
      "source": [
        "q = df.columns.values    # array of column labels\n",
        "q"
      ]
    },
    {
      "cell_type": "code",
      "execution_count": null,
      "id": "30272033",
      "metadata": {
        "id": "30272033",
        "outputId": "4a8b9f45-5933-4457-9926-1e2f3d0a6131"
      },
      "outputs": [
        {
          "data": {
            "text/html": [
              "<div>\n",
              "<style scoped>\n",
              "    .dataframe tbody tr th:only-of-type {\n",
              "        vertical-align: middle;\n",
              "    }\n",
              "\n",
              "    .dataframe tbody tr th {\n",
              "        vertical-align: top;\n",
              "    }\n",
              "\n",
              "    .dataframe thead th {\n",
              "        text-align: right;\n",
              "    }\n",
              "</style>\n",
              "<table border=\"1\" class=\"dataframe\">\n",
              "  <thead>\n",
              "    <tr style=\"text-align: right;\">\n",
              "      <th></th>\n",
              "      <th>half_yearly_marks</th>\n",
              "      <th>semester_marks</th>\n",
              "      <th>placed</th>\n",
              "    </tr>\n",
              "  </thead>\n",
              "  <tbody>\n",
              "    <tr>\n",
              "      <th>0</th>\n",
              "      <td>80.5</td>\n",
              "      <td>36.0</td>\n",
              "      <td>75.5</td>\n",
              "    </tr>\n",
              "    <tr>\n",
              "      <th>1</th>\n",
              "      <td>37.0</td>\n",
              "      <td>5.0</td>\n",
              "      <td>25.5</td>\n",
              "    </tr>\n",
              "    <tr>\n",
              "      <th>2</th>\n",
              "      <td>88.0</td>\n",
              "      <td>99.0</td>\n",
              "      <td>75.5</td>\n",
              "    </tr>\n",
              "    <tr>\n",
              "      <th>3</th>\n",
              "      <td>54.0</td>\n",
              "      <td>59.0</td>\n",
              "      <td>75.5</td>\n",
              "    </tr>\n",
              "    <tr>\n",
              "      <th>4</th>\n",
              "      <td>65.0</td>\n",
              "      <td>61.5</td>\n",
              "      <td>75.5</td>\n",
              "    </tr>\n",
              "    <tr>\n",
              "      <th>...</th>\n",
              "      <td>...</td>\n",
              "      <td>...</td>\n",
              "      <td>...</td>\n",
              "    </tr>\n",
              "    <tr>\n",
              "      <th>95</th>\n",
              "      <td>43.0</td>\n",
              "      <td>31.0</td>\n",
              "      <td>25.5</td>\n",
              "    </tr>\n",
              "    <tr>\n",
              "      <th>96</th>\n",
              "      <td>86.0</td>\n",
              "      <td>80.0</td>\n",
              "      <td>75.5</td>\n",
              "    </tr>\n",
              "    <tr>\n",
              "      <th>97</th>\n",
              "      <td>51.0</td>\n",
              "      <td>81.0</td>\n",
              "      <td>25.5</td>\n",
              "    </tr>\n",
              "    <tr>\n",
              "      <th>98</th>\n",
              "      <td>80.5</td>\n",
              "      <td>12.0</td>\n",
              "      <td>75.5</td>\n",
              "    </tr>\n",
              "    <tr>\n",
              "      <th>99</th>\n",
              "      <td>32.5</td>\n",
              "      <td>39.0</td>\n",
              "      <td>25.5</td>\n",
              "    </tr>\n",
              "  </tbody>\n",
              "</table>\n",
              "<p>100 rows × 3 columns</p>\n",
              "</div>"
            ],
            "text/plain": [
              "    half_yearly_marks  semester_marks  placed\n",
              "0                80.5            36.0    75.5\n",
              "1                37.0             5.0    25.5\n",
              "2                88.0            99.0    75.5\n",
              "3                54.0            59.0    75.5\n",
              "4                65.0            61.5    75.5\n",
              "..                ...             ...     ...\n",
              "95               43.0            31.0    25.5\n",
              "96               86.0            80.0    75.5\n",
              "97               51.0            81.0    25.5\n",
              "98               80.5            12.0    75.5\n",
              "99               32.5            39.0    25.5\n",
              "\n",
              "[100 rows x 3 columns]"
            ]
          },
          "execution_count": 39,
          "metadata": {},
          "output_type": "execute_result"
        }
      ],
      "source": [
        "p = df.rename(columns = {'cgpa':'updated_cgpa' ,\n",
        "                         'resume_score':'semester_marks'})  # How to rename a column\n",
        "p"
      ]
    },
    {
      "cell_type": "code",
      "execution_count": null,
      "id": "7fdbfb9f",
      "metadata": {
        "id": "7fdbfb9f",
        "outputId": "b3e12307-9d8b-4e7e-f9f8-7af26258195b"
      },
      "outputs": [
        {
          "data": {
            "text/plain": [
              "['cgpa', 'resume_score', 'placed']"
            ]
          },
          "execution_count": 40,
          "metadata": {},
          "output_type": "execute_result"
        }
      ],
      "source": [
        "s =p.columns = ['cgpa' , 'resume_score' , 'placed']\n",
        "s"
      ]
    },
    {
      "cell_type": "code",
      "execution_count": null,
      "id": "bc77a4ef",
      "metadata": {
        "id": "bc77a4ef",
        "outputId": "249e72ec-12c4-42c2-de92-600b4e84b64d"
      },
      "outputs": [
        {
          "data": {
            "text/html": [
              "<div>\n",
              "<style scoped>\n",
              "    .dataframe tbody tr th:only-of-type {\n",
              "        vertical-align: middle;\n",
              "    }\n",
              "\n",
              "    .dataframe tbody tr th {\n",
              "        vertical-align: top;\n",
              "    }\n",
              "\n",
              "    .dataframe thead th {\n",
              "        text-align: right;\n",
              "    }\n",
              "</style>\n",
              "<table border=\"1\" class=\"dataframe\">\n",
              "  <thead>\n",
              "    <tr style=\"text-align: right;\">\n",
              "      <th></th>\n",
              "      <th>cgpa</th>\n",
              "      <th>resume_score</th>\n",
              "      <th>placed</th>\n",
              "      <th>half</th>\n",
              "    </tr>\n",
              "  </thead>\n",
              "  <tbody>\n",
              "    <tr>\n",
              "      <th>0</th>\n",
              "      <td>80.5</td>\n",
              "      <td>36.0</td>\n",
              "      <td>75.5</td>\n",
              "      <td>80.5</td>\n",
              "    </tr>\n",
              "    <tr>\n",
              "      <th>1</th>\n",
              "      <td>37.0</td>\n",
              "      <td>5.0</td>\n",
              "      <td>25.5</td>\n",
              "      <td>0.0</td>\n",
              "    </tr>\n",
              "    <tr>\n",
              "      <th>2</th>\n",
              "      <td>88.0</td>\n",
              "      <td>99.0</td>\n",
              "      <td>75.5</td>\n",
              "      <td>88.0</td>\n",
              "    </tr>\n",
              "    <tr>\n",
              "      <th>3</th>\n",
              "      <td>54.0</td>\n",
              "      <td>59.0</td>\n",
              "      <td>75.5</td>\n",
              "      <td>54.0</td>\n",
              "    </tr>\n",
              "    <tr>\n",
              "      <th>4</th>\n",
              "      <td>65.0</td>\n",
              "      <td>61.5</td>\n",
              "      <td>75.5</td>\n",
              "      <td>65.0</td>\n",
              "    </tr>\n",
              "    <tr>\n",
              "      <th>5</th>\n",
              "      <td>95.0</td>\n",
              "      <td>25.5</td>\n",
              "      <td>75.5</td>\n",
              "      <td>95.0</td>\n",
              "    </tr>\n",
              "    <tr>\n",
              "      <th>6</th>\n",
              "      <td>2.0</td>\n",
              "      <td>51.0</td>\n",
              "      <td>25.5</td>\n",
              "      <td>0.0</td>\n",
              "    </tr>\n",
              "    <tr>\n",
              "      <th>7</th>\n",
              "      <td>49.0</td>\n",
              "      <td>28.0</td>\n",
              "      <td>25.5</td>\n",
              "      <td>0.0</td>\n",
              "    </tr>\n",
              "    <tr>\n",
              "      <th>8</th>\n",
              "      <td>42.0</td>\n",
              "      <td>41.0</td>\n",
              "      <td>25.5</td>\n",
              "      <td>0.0</td>\n",
              "    </tr>\n",
              "    <tr>\n",
              "      <th>9</th>\n",
              "      <td>68.0</td>\n",
              "      <td>52.0</td>\n",
              "      <td>75.5</td>\n",
              "      <td>68.0</td>\n",
              "    </tr>\n",
              "  </tbody>\n",
              "</table>\n",
              "</div>"
            ],
            "text/plain": [
              "   cgpa  resume_score  placed  half\n",
              "0  80.5          36.0    75.5  80.5\n",
              "1  37.0           5.0    25.5   0.0\n",
              "2  88.0          99.0    75.5  88.0\n",
              "3  54.0          59.0    75.5  54.0\n",
              "4  65.0          61.5    75.5  65.0\n",
              "5  95.0          25.5    75.5  95.0\n",
              "6   2.0          51.0    25.5   0.0\n",
              "7  49.0          28.0    25.5   0.0\n",
              "8  42.0          41.0    25.5   0.0\n",
              "9  68.0          52.0    75.5  68.0"
            ]
          },
          "execution_count": 45,
          "metadata": {},
          "output_type": "execute_result"
        }
      ],
      "source": [
        "df['half'] = df['cgpa'].where(df['cgpa']>7 , other = 0)\n",
        "df.head(10)"
      ]
    },
    {
      "cell_type": "code",
      "execution_count": null,
      "id": "a1f95010",
      "metadata": {
        "id": "a1f95010"
      },
      "outputs": [],
      "source": [
        "st = df['cgpa'].astype(int)   # Data type conversion\n",
        "# st"
      ]
    },
    {
      "cell_type": "code",
      "execution_count": null,
      "id": "0b5cd94b",
      "metadata": {
        "id": "0b5cd94b"
      },
      "outputs": [],
      "source": []
    },
    {
      "cell_type": "code",
      "execution_count": null,
      "id": "251a5629",
      "metadata": {
        "id": "251a5629"
      },
      "outputs": [],
      "source": []
    },
    {
      "cell_type": "code",
      "execution_count": null,
      "id": "6f0d1b23",
      "metadata": {
        "id": "6f0d1b23"
      },
      "outputs": [],
      "source": []
    },
    {
      "cell_type": "markdown",
      "id": "109d67f9",
      "metadata": {
        "id": "109d67f9"
      },
      "source": [
        "# Task"
      ]
    },
    {
      "cell_type": "markdown",
      "id": "5f350c0e",
      "metadata": {
        "id": "5f350c0e"
      },
      "source": [
        "# Create an Employee DataFrame in which you have (Emp_ID , Emp_Name , Department, Salary) Column and you have total 8 rows in your dataframe and you have too calculate :\n",
        "    \n",
        "    (1). Top 3 data\n",
        "    (2). Bottom 4 data\n",
        "    (3). Create a new column in which whose salary is greater than 20000  only shows rest all are 0.\n",
        "    (4). Check Statically view and info() of dataframe ?\n",
        "\n"
      ]
    },
    {
      "cell_type": "code",
      "execution_count": null,
      "id": "4906160d",
      "metadata": {
        "id": "4906160d"
      },
      "outputs": [],
      "source": []
    }
  ],
  "metadata": {
    "kernelspec": {
      "display_name": "Python 3 (ipykernel)",
      "language": "python",
      "name": "python3"
    },
    "language_info": {
      "codemirror_mode": {
        "name": "ipython",
        "version": 3
      },
      "file_extension": ".py",
      "mimetype": "text/x-python",
      "name": "python",
      "nbconvert_exporter": "python",
      "pygments_lexer": "ipython3",
      "version": "3.9.12"
    },
    "colab": {
      "provenance": []
    }
  },
  "nbformat": 4,
  "nbformat_minor": 5
}