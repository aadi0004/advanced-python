{
 "cells": [
  {
   "cell_type": "code",
   "execution_count": 1,
   "id": "c1e0210b-edce-4399-9468-49ca90c7738d",
   "metadata": {},
   "outputs": [],
   "source": [
    "import pandas as pd"
   ]
  },
  {
   "cell_type": "code",
   "execution_count": 4,
   "id": "a1a1f499-8cfa-4fbb-a84c-93396dec6478",
   "metadata": {
    "scrolled": true
   },
   "outputs": [],
   "source": [
    "df= pd.read_csv(\"C:\\\\Users\\\\HP\\\\OneDrive\\\\Desktop\\\\REGex\\\\dataset\\\\Financial_Data.csv\")"
   ]
  },
  {
   "cell_type": "code",
   "execution_count": 6,
   "id": "cba73575-ea50-4078-adf3-4c2d726f72d2",
   "metadata": {
    "scrolled": true
   },
   "outputs": [
    {
     "name": "stderr",
     "output_type": "stream",
     "text": [
      "C:\\Users\\HP\\AppData\\Local\\Temp\\ipykernel_23124\\2020206602.py:4: FutureWarning: The default fill_method='ffill' in SeriesGroupBy.pct_change is deprecated and will be removed in a future version. Either fill in any non-leading NA values prior to calling pct_change or specify 'fill_method=None' to not fill NA values.\n",
      "  df['Revenue Growth (%)'] = df.groupby(['Company'])['Total Revenue'].pct_change() * 100\n",
      "C:\\Users\\HP\\AppData\\Local\\Temp\\ipykernel_23124\\2020206602.py:5: FutureWarning: The default fill_method='ffill' in SeriesGroupBy.pct_change is deprecated and will be removed in a future version. Either fill in any non-leading NA values prior to calling pct_change or specify 'fill_method=None' to not fill NA values.\n",
      "  df['Net Income Growth (%)'] = df.groupby(['Company'])['Net Income'].pct_change() * 100\n",
      "C:\\Users\\HP\\AppData\\Local\\Temp\\ipykernel_23124\\2020206602.py:6: FutureWarning: The default fill_method='ffill' in SeriesGroupBy.pct_change is deprecated and will be removed in a future version. Either fill in any non-leading NA values prior to calling pct_change or specify 'fill_method=None' to not fill NA values.\n",
      "  df['Asset Growth (%)'] = df.groupby(['Company'])['Total Assets'].pct_change() * 100\n",
      "C:\\Users\\HP\\AppData\\Local\\Temp\\ipykernel_23124\\2020206602.py:7: FutureWarning: The default fill_method='ffill' in SeriesGroupBy.pct_change is deprecated and will be removed in a future version. Either fill in any non-leading NA values prior to calling pct_change or specify 'fill_method=None' to not fill NA values.\n",
      "  df['Liabilities Growth (%)'] = df.groupby(['Company'])['Total Liabilities'].pct_change() * 100\n",
      "C:\\Users\\HP\\AppData\\Local\\Temp\\ipykernel_23124\\2020206602.py:8: FutureWarning: The default fill_method='ffill' in SeriesGroupBy.pct_change is deprecated and will be removed in a future version. Either fill in any non-leading NA values prior to calling pct_change or specify 'fill_method=None' to not fill NA values.\n",
      "  df['Cash Flow Growth (%)'] = df.groupby(['Company'])['Cash Flow from Operating Activities'].pct_change() * 100\n"
     ]
    }
   ],
   "source": [
    "cols_to_convert = ['Total Revenue', 'Net Income', 'Total Assets', 'Total Liabilities', 'Cash Flow from Operating Activities']\n",
    "df[cols_to_convert] = df[cols_to_convert].apply(pd.to_numeric, errors='coerce')\n",
    "\n",
    "df['Revenue Growth (%)'] = df.groupby(['Company'])['Total Revenue'].pct_change() * 100\n",
    "df['Net Income Growth (%)'] = df.groupby(['Company'])['Net Income'].pct_change() * 100\n",
    "df['Asset Growth (%)'] = df.groupby(['Company'])['Total Assets'].pct_change() * 100\n",
    "df['Liabilities Growth (%)'] = df.groupby(['Company'])['Total Liabilities'].pct_change() * 100\n",
    "df['Cash Flow Growth (%)'] = df.groupby(['Company'])['Cash Flow from Operating Activities'].pct_change() * 100\n"
   ]
  },
  {
   "cell_type": "code",
   "execution_count": 7,
   "id": "057019d4-98fb-47fa-b027-e1bb8235c7cf",
   "metadata": {},
   "outputs": [
    {
     "name": "stderr",
     "output_type": "stream",
     "text": [
      "C:\\Users\\HP\\AppData\\Local\\Temp\\ipykernel_23124\\1195518302.py:2: FutureWarning: The default fill_method='ffill' in SeriesGroupBy.pct_change is deprecated and will be removed in a future version. Either fill in any non-leading NA values prior to calling pct_change or specify 'fill_method=None' to not fill NA values.\n",
      "  df['Revenue Growth (%)'] = df.groupby('Company')['Total Revenue'].pct_change() * 100\n",
      "C:\\Users\\HP\\AppData\\Local\\Temp\\ipykernel_23124\\1195518302.py:3: FutureWarning: The default fill_method='ffill' in SeriesGroupBy.pct_change is deprecated and will be removed in a future version. Either fill in any non-leading NA values prior to calling pct_change or specify 'fill_method=None' to not fill NA values.\n",
      "  df['Net Income Growth (%)'] = df.groupby('Company')['Net Income'].pct_change() * 100\n",
      "C:\\Users\\HP\\AppData\\Local\\Temp\\ipykernel_23124\\1195518302.py:4: FutureWarning: The default fill_method='ffill' in SeriesGroupBy.pct_change is deprecated and will be removed in a future version. Either fill in any non-leading NA values prior to calling pct_change or specify 'fill_method=None' to not fill NA values.\n",
      "  df['Asset Growth (%)'] = df.groupby('Company')['Total Assets'].pct_change() * 100\n",
      "C:\\Users\\HP\\AppData\\Local\\Temp\\ipykernel_23124\\1195518302.py:5: FutureWarning: The default fill_method='ffill' in SeriesGroupBy.pct_change is deprecated and will be removed in a future version. Either fill in any non-leading NA values prior to calling pct_change or specify 'fill_method=None' to not fill NA values.\n",
      "  df['Liabilities Growth (%)'] = df.groupby('Company')['Total Liabilities'].pct_change() * 100\n",
      "C:\\Users\\HP\\AppData\\Local\\Temp\\ipykernel_23124\\1195518302.py:6: FutureWarning: The default fill_method='ffill' in SeriesGroupBy.pct_change is deprecated and will be removed in a future version. Either fill in any non-leading NA values prior to calling pct_change or specify 'fill_method=None' to not fill NA values.\n",
      "  df['Cash Flow Growth (%)'] = df.groupby('Company')['Cash Flow from Operating Activities'].pct_change() * 100\n"
     ]
    }
   ],
   "source": [
    "\n",
    "# Calculate year-over-year percentage changes\n",
    "df['Revenue Growth (%)'] = df.groupby('Company')['Total Revenue'].pct_change() * 100\n",
    "df['Net Income Growth (%)'] = df.groupby('Company')['Net Income'].pct_change() * 100\n",
    "df['Asset Growth (%)'] = df.groupby('Company')['Total Assets'].pct_change() * 100\n",
    "df['Liabilities Growth (%)'] = df.groupby('Company')['Total Liabilities'].pct_change() * 100\n",
    "df['Cash Flow Growth (%)'] = df.groupby('Company')['Cash Flow from Operating Activities'].pct_change() * 100\n"
   ]
  },
  {
   "cell_type": "code",
   "execution_count": 8,
   "id": "a110ab4b-1b65-481c-a037-fc28006b0966",
   "metadata": {},
   "outputs": [],
   "source": [
    "output_path = 'C:\\\\Users\\\\HP\\\\OneDrive\\\\Desktop\\\\REGex\\\\dataset\\\\Financial_Data_Updated.csv'\n",
    "df.to_csv(output_path, index=False)"
   ]
  },
  {
   "cell_type": "code",
   "execution_count": 11,
   "id": "822e2dc5-24fe-4e2c-a3df-f19ab14bb7e3",
   "metadata": {},
   "outputs": [
    {
     "ename": "NameError",
     "evalue": "name 'C' is not defined",
     "output_type": "error",
     "traceback": [
      "\u001b[1;31m---------------------------------------------------------------------------\u001b[0m",
      "\u001b[1;31mNameError\u001b[0m                                 Traceback (most recent call last)",
      "Cell \u001b[1;32mIn[11], line 1\u001b[0m\n\u001b[1;32m----> 1\u001b[0m \u001b[38;5;28mprint\u001b[39m(\u001b[38;5;124mf\u001b[39m\u001b[38;5;124m\"\u001b[39m\u001b[38;5;124mUpdated financial data saved to \u001b[39m\u001b[38;5;132;01m{\u001b[39;00mC\u001b[38;5;132;01m:\u001b[39;00m\u001b[38;5;130;01m\\\\\u001b[39;00m\u001b[38;5;124mUsers\u001b[39m\u001b[38;5;130;01m\\\\\u001b[39;00m\u001b[38;5;124mHP\u001b[39m\u001b[38;5;130;01m\\\\\u001b[39;00m\u001b[38;5;124mOneDrive\u001b[39m\u001b[38;5;130;01m\\\\\u001b[39;00m\u001b[38;5;124mDesktop\u001b[39m\u001b[38;5;130;01m\\\\\u001b[39;00m\u001b[38;5;124mREGex\u001b[39m\u001b[38;5;130;01m\\\\\u001b[39;00m\u001b[38;5;124mdataset\u001b[39m\u001b[38;5;130;01m\\\\\u001b[39;00m\u001b[38;5;124mFinancial_Data_Updated.csv\u001b[39m\u001b[38;5;132;01m}\u001b[39;00m\u001b[38;5;124m\"\u001b[39m)\n",
      "\u001b[1;31mNameError\u001b[0m: name 'C' is not defined"
     ]
    }
   ],
   "source": [
    "print(f\"Updated financial data saved to {C:\\\\Users\\\\HP\\\\OneDrive\\\\Desktop\\\\REGex\\\\dataset\\\\Financial_Data_Updated.csv}\")\n"
   ]
  },
  {
   "cell_type": "code",
   "execution_count": 12,
   "id": "c3598104-7afc-41e7-8df4-6462f46c1996",
   "metadata": {},
   "outputs": [
    {
     "name": "stdout",
     "output_type": "stream",
     "text": [
      "Updated financial data saved to C:\\Users\\HP\\OneDrive\\Desktop\\REGex\\dataset\\Financial_Data_Updated.csv\n"
     ]
    }
   ],
   "source": [
    "print(f\"Updated financial data saved to {output_path}\")\n"
   ]
  },
  {
   "cell_type": "markdown",
   "id": "d59cc931-2a17-43cd-aa9d-11c5d3a3f285",
   "metadata": {},
   "source": [
    "Financial Data Analysis\n",
    "\n",
    "Introduction\n",
    "\n",
    "This analysis aims to explore the financial performance of Microsoft, Tesla, and Apple over the years 2022 to 2024. We calculate key growth metrics to identify trends and insights into their revenue, net income, total assets, liabilities, and cash flow from operating activities.\n",
    "\n",
    "Data Preparation\n",
    "\n",
    "We began by loading the financial data into a Pandas DataFrame from a CSV file. Key steps included:\n",
    "\n",
    "Cleaning and formatting data.\n",
    "\n",
    "Handling missing values and ensuring proper data types.\n",
    "\n",
    "Organizing the data by company and year.\n",
    "\n",
    "Growth Metric Calculations\n",
    "\n",
    "We calculated year-over-year percentage growth for the following metrics:\n",
    "\n",
    "Revenue Growth (%): Yearly change in total revenue.\n",
    "\n",
    "Net Income Growth (%): Yearly change in net income.\n",
    "\n",
    "Asset Growth (%): Yearly change in total assets.\n",
    "\n",
    "Liabilities Growth (%): Yearly change in total liabilities.\n",
    "\n",
    "Cash Flow Growth (%): Yearly change in cash flow from operating activities"
   ]
  },
  {
   "cell_type": "markdown",
   "id": "414e8656-968e-4b78-8e77-fe7a632ebffd",
   "metadata": {},
   "source": [
    "Key Findings\n",
    "\n",
    "Microsoft:\n",
    "\n",
    "Consistent revenue and net income growth from 2022 to 2024.\n",
    "\n",
    "Moderate asset growth with stable liabilities.\n",
    "\n",
    "Tesla:\n",
    "\n",
    "High variability in net income growth, peaking in 2023.\n",
    "\n",
    "Rapid asset and revenue growth but also increasing liabilities.\n",
    "\n",
    "Apple:\n",
    "\n",
    "Stable and consistent growth across all metrics.\n",
    "\n",
    "Strong cash flow growth with controlled liabilities.\n",
    "\n",
    "Conclusion\n",
    "\n",
    "This analysis provides valuable insights into the financial health of Microsoft, Tesla, and Apple. Tesla shows high growth with volatility, Apple maintains stability, and Microsoft balances growth with consistency. These findings can help in strategic decision-making and investment considerations.\n",
    "\n",
    "Next Steps\n",
    "\n",
    "Visualize the trends using line charts or bar plots for clearer representation.\n",
    "\n",
    "Deeper analysis on factors driving the growth metrics.\n",
    "\n",
    "Explore correlations between financial metrics for a holistic understanding."
   ]
  },
  {
   "cell_type": "code",
   "execution_count": null,
   "id": "c5e2c30e-c636-4755-bd51-568238abbc5a",
   "metadata": {},
   "outputs": [],
   "source": []
  }
 ],
 "metadata": {
  "kernelspec": {
   "display_name": "Python 3 (ipykernel)",
   "language": "python",
   "name": "python3"
  },
  "language_info": {
   "codemirror_mode": {
    "name": "ipython",
    "version": 3
   },
   "file_extension": ".py",
   "mimetype": "text/x-python",
   "name": "python",
   "nbconvert_exporter": "python",
   "pygments_lexer": "ipython3",
   "version": "3.12.7"
  }
 },
 "nbformat": 4,
 "nbformat_minor": 5
}
