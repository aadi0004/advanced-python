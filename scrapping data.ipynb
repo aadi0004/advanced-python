{
 "cells": [
  {
   "cell_type": "code",
   "execution_count": 1,
   "id": "906794b4",
   "metadata": {},
   "outputs": [],
   "source": [
    "from flask import Flask, jsonify\n",
    "import requests\n",
    "from bs4 import BeautifulSoup\n",
    "import pandas as pd"
   ]
  },
  {
   "cell_type": "code",
   "execution_count": 2,
   "id": "2a54dc58",
   "metadata": {},
   "outputs": [],
   "source": [
    "url = \"https://www.flipkart.com/all/~cs-21e789349087c946d1b57cb0a6372ff1/pr?sid=ajy,buh&marketplace=FLIPKART&restrictLocale=true\""
   ]
  },
  {
   "cell_type": "code",
   "execution_count": 3,
   "id": "291d0911",
   "metadata": {},
   "outputs": [],
   "source": [
    "req= requests.get(url)"
   ]
  },
  {
   "cell_type": "code",
   "execution_count": 4,
   "id": "fcac483d",
   "metadata": {},
   "outputs": [],
   "source": [
    "content = BeautifulSoup(req.content, 'html.parser')"
   ]
  },
  {
   "cell_type": "code",
   "execution_count": 24,
   "id": "531d5bec",
   "metadata": {},
   "outputs": [],
   "source": [
    "data=content.find_all('div',{'class':'tUxRFH'})"
   ]
  },
  {
   "cell_type": "code",
   "execution_count": 15,
   "id": "c4d2c4d2",
   "metadata": {},
   "outputs": [
    {
     "name": "stdout",
     "output_type": "stream",
     "text": [
      "[]\n"
     ]
    }
   ],
   "source": [
    "print(data)"
   ]
  },
  {
   "cell_type": "code",
   "execution_count": 28,
   "id": "e8c06522",
   "metadata": {},
   "outputs": [],
   "source": [
    "\n",
    "data=content.find_all('div', {'class':'_2kHMtA'})\n",
    "links=[] \n",
    "phn_name=[]\n",
    "start_link=\"https://www.flipkart.com\"\n"
   ]
  },
  {
   "cell_type": "code",
   "execution_count": 29,
   "id": "10d1ba9f",
   "metadata": {},
   "outputs": [],
   "source": [
    "for items in data:\n",
    "    rest_link=items.find('a')['href']\n",
    "    name=items.find('div', attrs={'class': '_4rR01T'})\n",
    "    phn_name.append(name.text) \n",
    "    links.append(start_link+rest_link)\n"
   ]
  },
  {
   "cell_type": "code",
   "execution_count": 30,
   "id": "a9b6fdac",
   "metadata": {},
   "outputs": [
    {
     "name": "stdout",
     "output_type": "stream",
     "text": [
      "Empty DataFrame\n",
      "Columns: [Phone_names, Links]\n",
      "Index: []\n"
     ]
    }
   ],
   "source": [
    "dataframe={\"Phone_names\": phn_name, 'Links':links }\n",
    "final_dataframe=pd.DataFrame(dataframe)\n",
    "print(final_dataframe)"
   ]
  },
  {
   "cell_type": "code",
   "execution_count": 31,
   "id": "b8fc10ad",
   "metadata": {},
   "outputs": [
    {
     "data": {
      "text/plain": [
       "',Phone_names,Links\\r\\n'"
      ]
     },
     "execution_count": 31,
     "metadata": {},
     "output_type": "execute_result"
    }
   ],
   "source": [
    "final_dataframe.to_csv()"
   ]
  },
  {
   "cell_type": "code",
   "execution_count": null,
   "id": "3eb56374",
   "metadata": {},
   "outputs": [],
   "source": []
  }
 ],
 "metadata": {
  "kernelspec": {
   "display_name": "Python 3 (ipykernel)",
   "language": "python",
   "name": "python3"
  },
  "language_info": {
   "codemirror_mode": {
    "name": "ipython",
    "version": 3
   },
   "file_extension": ".py",
   "mimetype": "text/x-python",
   "name": "python",
   "nbconvert_exporter": "python",
   "pygments_lexer": "ipython3",
   "version": "3.10.9"
  }
 },
 "nbformat": 4,
 "nbformat_minor": 5
}
