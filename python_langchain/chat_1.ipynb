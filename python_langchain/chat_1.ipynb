{
 "cells": [
  {
   "cell_type": "code",
   "execution_count": 3,
   "id": "feb0c5ab",
   "metadata": {},
   "outputs": [],
   "source": [
    "import os\n",
    "from dotenv import load_dotenv, find_dotenv\n",
    "_ = load_dotenv(find_dotenv())\n"
   ]
  },
  {
   "cell_type": "code",
   "execution_count": 5,
   "id": "3d630fc8",
   "metadata": {},
   "outputs": [],
   "source": [
    "from langchain_groq import ChatGroq\n",
    "\n",
    "llamaChatModel = ChatGroq(\n",
    "    model=\"llama3-70b-8192\"\n",
    ")"
   ]
  },
  {
   "cell_type": "code",
   "execution_count": 6,
   "id": "3e6f36a9",
   "metadata": {},
   "outputs": [],
   "source": [
    "mistralChatModel = ChatGroq(\n",
    "    model=\"mixtral-8x7b-32768\"\n",
    ")"
   ]
  },
  {
   "cell_type": "code",
   "execution_count": 7,
   "id": "e1b560d1",
   "metadata": {},
   "outputs": [],
   "source": [
    "messages = [\n",
    "    (\"system\", \"You are an historian expert in the Kennedy family.\"),\n",
    "    (\"human\", \"How many members of the family died tragically?\"),\n",
    "]"
   ]
  },
  {
   "cell_type": "code",
   "execution_count": 9,
   "id": "cf82de45",
   "metadata": {},
   "outputs": [],
   "source": [
    "llamaResponse = llamaChatModel.invoke(messages)"
   ]
  },
  {
   "cell_type": "markdown",
   "id": "7bed239c",
   "metadata": {},
   "source": [
    "Older Way to work with langchain"
   ]
  },
  {
   "cell_type": "code",
   "execution_count": 10,
   "id": "5412f26d",
   "metadata": {},
   "outputs": [
    {
     "name": "stdout",
     "output_type": "stream",
     "text": [
      "Here is a short poem about friendship:\n",
      "\n",
      "A bond so strong, a tie so true,\n",
      "Friendship is a gift, through and through.\n",
      "It's laughter and tears, and memories made,\n",
      "A connection that's never faded.\n",
      "\n",
      "Through thick and thin, through ups and downs,\n",
      "Friends stand together, never backing down.\n",
      "They lift each other up, and never give in,\n",
      "A true and lasting friendship, a treasure to win.\n",
      "\n",
      "So here's to friends, a precious find,\n",
      "A treasure to cherish, one of a kind.\n",
      "May our friendships grow, and never fade,\n",
      "A bond of love and laughter, forever we've made.\n"
     ]
    }
   ],
   "source": [
    "from dotenv import load_dotenv\n",
    "import os\n",
    "from langchain_groq import ChatGroq\n",
    "\n",
    "# Load the .env file\n",
    "load_dotenv()\n",
    "groq_api_key = os.getenv(\"GROQ_API_KEY\")\n",
    "\n",
    "# Initialize the Groq LLM\n",
    "llm = ChatGroq(\n",
    "    model=\"llama3-8b-8192\",\n",
    "    api_key=groq_api_key\n",
    ")\n",
    "\n",
    "# Create a manual prompt\n",
    "topic = \"friendship\"\n",
    "prompt = f\"Write a short poem about {topic}.\"\n",
    "\n",
    "# Call the LLM directly\n",
    "response = llm.invoke(prompt)\n",
    "\n",
    "# Print result\n",
    "print(response.content)\n"
   ]
  },
  {
   "cell_type": "markdown",
   "id": "8051dd6f",
   "metadata": {},
   "source": [
    "New way to work with Langchain is Chaining and Prompting . "
   ]
  },
  {
   "cell_type": "code",
   "execution_count": 11,
   "id": "bb8e59d9",
   "metadata": {},
   "outputs": [
    {
     "name": "stdout",
     "output_type": "stream",
     "text": [
      "Here is a short poem about friendship:\n",
      "\n",
      "A bond so strong, a tie so true,\n",
      "Friendship like this, is a gift to you.\n",
      "Through laughter and tears, we stand as one,\n",
      "Together forever, under the bright sun.\n",
      "\n",
      "With every step, with every fall,\n",
      "We lift each other up, through it all.\n",
      "Through thick and thin, through joy and strife,\n",
      "Friendship like this, is a precious life.\n",
      "\n",
      "So here's to you, my dear friend so dear,\n",
      "A treasure to cherish, year after year.\n",
      "In your eyes, my heart finds a home,\n",
      "In your friendship, I am never alone.\n"
     ]
    }
   ],
   "source": [
    "from dotenv import load_dotenv\n",
    "import os\n",
    "from langchain_groq import ChatGroq\n",
    "from langchain_core.prompts import ChatPromptTemplate\n",
    "from langchain_core.output_parsers import StrOutputParser\n",
    "\n",
    "# Load the .env file\n",
    "load_dotenv()\n",
    "groq_api_key = os.getenv(\"GROQ_API_KEY\")\n",
    "\n",
    "# Step 1: Prompt Template\n",
    "prompt = ChatPromptTemplate.from_template(\"Write a short poem about {topic}.\")\n",
    "\n",
    "# Step 2: LLM\n",
    "llm = ChatGroq(\n",
    "    model=\"llama3-8b-8192\",\n",
    "    api_key=groq_api_key\n",
    ")\n",
    "\n",
    "# Step 3: Parser\n",
    "parser = StrOutputParser()\n",
    "\n",
    "# Step 4: Chain\n",
    "chain = prompt | llm | parser\n",
    "\n",
    "# Step 5: Run the chain\n",
    "response = chain.invoke({\"topic\": \"friendship\"})\n",
    "print(response)\n"
   ]
  },
  {
   "cell_type": "code",
   "execution_count": 12,
   "id": "c68cc8c0",
   "metadata": {},
   "outputs": [
    {
     "name": "stdout",
     "output_type": "stream",
     "text": [
      "Using Groq API Key: gsk_Q...Q6UIH\n"
     ]
    }
   ],
   "source": [
    "import os\n",
    "\n",
    "# Make sure the key is correctly set before using ChatGroq\n",
    "api_key = os.getenv(\"GROQ_API_KEY\")\n",
    "if not api_key:\n",
    "    raise ValueError(\"GROQ_API_KEY is not set!\")\n",
    "print(\"Using Groq API Key:\", api_key[:5] + \"...\" + api_key[-5:])\n"
   ]
  },
  {
   "cell_type": "code",
   "execution_count": 13,
   "id": "9a1b6d17",
   "metadata": {},
   "outputs": [
    {
     "name": "stdout",
     "output_type": "stream",
     "text": [
      "content='The Kennedy family has indeed been marked by a series of tragic events and untimely deaths. Here\\'s a list of some of the most notable ones:\\n\\n1. Joseph P. Kennedy Jr. (1915-1944): The eldest son of Joseph P. Kennedy Sr. and Rose Kennedy, Joseph Jr. was a naval aviator who died in action during World War II. He was just 29 years old when his plane exploded while on a secret mission.\\n\\n2. Kathleen \"Kick\" Kennedy (1920-1948): Kathleen, the fourth child and second daughter of the Kennedy family, died in a plane crash in France at the age of 28. She was married to William Cavendish, the Marquess of Hartington, and was on her way to meet her family for a vacation when the accident occurred.\\n\\n3. John F. Kennedy (1917-1963): The 35th President of the United States, John F. Kennedy was assassinated in Dallas, Texas, on November 22, 1963, at the age of 46.\\n\\n4. Robert F. Kennedy (1925-1968): John\\'s younger brother and Attorney General of the United States, Robert Kennedy was shot and killed on June 5, 1968, while campaigning for the Democratic presidential nomination in Los Angeles. He was 42 years old at the time of his death.\\n\\n5. David Kennedy (1955-1984): The son of Robert F. Kennedy, David died of an accidental overdose of cocaine and prescription medication at the age of 28.\\n\\n6. Michael LeMoyne Kennedy (1958-1997): Another son of Robert F. Kennedy, Michael died in a skiing accident in Aspen, Colorado, on December 31, 1997, at the age of 39.\\n\\n7. John F. Kennedy Jr. (1960-1999): The son of John F. Kennedy and Jacqueline Kennedy Onassis, John Jr. died in a plane crash on July 18, 1999, at the age of 38. He was piloting the plane, which also carried his wife Carolyn Bessette Kennedy and her sister Lauren Bessette.\\n\\n8. Kara Kennedy (1960-2011): The daughter of Ted Kennedy, Kara died of a heart attack at the age of 51 while exercising at a Washington, D.C. gym.\\n\\nThese tragic events have indeed left a profound impact on the Kennedy family and American history as a whole.' additional_kwargs={} response_metadata={'token_usage': {'completion_tokens': 509, 'prompt_tokens': 35, 'total_tokens': 544, 'completion_time': 1.454285714, 'prompt_time': 0.000754925, 'queue_time': 0.054098985, 'total_time': 1.455040639}, 'model_name': 'llama3-70b-8192', 'system_fingerprint': 'fp_dd4ae1c591', 'finish_reason': 'stop', 'logprobs': None} id='run--0d1dd0ef-68fb-4847-99ca-9543faeddb6a-0' usage_metadata={'input_tokens': 35, 'output_tokens': 509, 'total_tokens': 544}\n"
     ]
    }
   ],
   "source": [
    "import os\n",
    "from dotenv import load_dotenv, find_dotenv\n",
    "\n",
    "_ = load_dotenv(find_dotenv())  # Loads from .env\n",
    "\n",
    "from langchain_groq import ChatGroq\n",
    "\n",
    "llamaChatModel = ChatGroq(\n",
    "    model=\"llama3-70b-8192\",\n",
    "    api_key=os.getenv(\"GROQ_API_KEY\")  # ✅ explicitly pass it\n",
    ")\n",
    "\n",
    "messages = [\n",
    "    (\"system\", \"You are an historian expert in the Kennedy family.\"),\n",
    "    (\"human\", \"How many members of the family died tragically?\"),\n",
    "]\n",
    "\n",
    "llamaResponse = llamaChatModel.invoke(messages)\n",
    "print(llamaResponse)\n"
   ]
  },
  {
   "cell_type": "code",
   "execution_count": null,
   "id": "b62b47f8",
   "metadata": {},
   "outputs": [],
   "source": []
  }
 ],
 "metadata": {
  "kernelspec": {
   "display_name": "python_langchain",
   "language": "python",
   "name": "python3"
  },
  "language_info": {
   "codemirror_mode": {
    "name": "ipython",
    "version": 3
   },
   "file_extension": ".py",
   "mimetype": "text/x-python",
   "name": "python",
   "nbconvert_exporter": "python",
   "pygments_lexer": "ipython3",
   "version": "3.12.10"
  }
 },
 "nbformat": 4,
 "nbformat_minor": 5
}
